{
 "cells": [
  {
   "cell_type": "markdown",
   "metadata": {},
   "source": [
    "# Customer Retention\n",
    "\n",
    "The purpose of this project is to determine if there is a model that can determine what factors may lead to a customer leaving a bank service, using customer behavior as a predictive metric. We will build a model that aims to maximize F1 score, with a minimum of 0.59. Additionally, we will compare the AUC-ROC with this F1 score."
   ]
  },
  {
   "cell_type": "markdown",
   "metadata": {},
   "source": [
    "## Initialization"
   ]
  },
  {
   "cell_type": "code",
   "execution_count": 1,
   "metadata": {},
   "outputs": [],
   "source": [
    "# import libraries\n",
    "\n",
    "import pandas as pd\n",
    "import matplotlib.pyplot as plt\n",
    "import numpy as np\n",
    "\n",
    "# for data prep\n",
    "\n",
    "from sklearn.model_selection import train_test_split\n",
    "from sklearn.preprocessing import StandardScaler\n",
    "\n",
    "# for model creation\n",
    "\n",
    "from sklearn.tree import DecisionTreeClassifier\n",
    "from sklearn.ensemble import RandomForestClassifier \n",
    "from sklearn.linear_model import LogisticRegression\n",
    "from sklearn.utils import shuffle\n",
    "\n",
    "# for model checking\n",
    "\n",
    "from sklearn.metrics import f1_score\n",
    "from sklearn.metrics import accuracy_score\n",
    "from sklearn.metrics import recall_score\n",
    "from sklearn.metrics import confusion_matrix\n",
    "from sklearn.metrics import precision_score\n",
    "from sklearn.metrics import precision_recall_curve\n",
    "from sklearn.metrics import roc_curve\n",
    "from sklearn.metrics import roc_auc_score"
   ]
  },
  {
   "cell_type": "code",
   "execution_count": 46,
   "metadata": {},
   "outputs": [],
   "source": [
    "# import data\n",
    "\n",
    "data = pd.read_csv('/datasets/Churn.csv')"
   ]
  },
  {
   "cell_type": "code",
   "execution_count": 47,
   "metadata": {},
   "outputs": [
    {
     "data": {
      "text/html": [
       "<div>\n",
       "<style scoped>\n",
       "    .dataframe tbody tr th:only-of-type {\n",
       "        vertical-align: middle;\n",
       "    }\n",
       "\n",
       "    .dataframe tbody tr th {\n",
       "        vertical-align: top;\n",
       "    }\n",
       "\n",
       "    .dataframe thead th {\n",
       "        text-align: right;\n",
       "    }\n",
       "</style>\n",
       "<table border=\"1\" class=\"dataframe\">\n",
       "  <thead>\n",
       "    <tr style=\"text-align: right;\">\n",
       "      <th></th>\n",
       "      <th>RowNumber</th>\n",
       "      <th>CustomerId</th>\n",
       "      <th>Surname</th>\n",
       "      <th>CreditScore</th>\n",
       "      <th>Geography</th>\n",
       "      <th>Gender</th>\n",
       "      <th>Age</th>\n",
       "      <th>Tenure</th>\n",
       "      <th>Balance</th>\n",
       "      <th>NumOfProducts</th>\n",
       "      <th>HasCrCard</th>\n",
       "      <th>IsActiveMember</th>\n",
       "      <th>EstimatedSalary</th>\n",
       "      <th>Exited</th>\n",
       "    </tr>\n",
       "  </thead>\n",
       "  <tbody>\n",
       "    <tr>\n",
       "      <th>0</th>\n",
       "      <td>1</td>\n",
       "      <td>15634602</td>\n",
       "      <td>Hargrave</td>\n",
       "      <td>619</td>\n",
       "      <td>France</td>\n",
       "      <td>Female</td>\n",
       "      <td>42</td>\n",
       "      <td>2.0</td>\n",
       "      <td>0.00</td>\n",
       "      <td>1</td>\n",
       "      <td>1</td>\n",
       "      <td>1</td>\n",
       "      <td>101348.88</td>\n",
       "      <td>1</td>\n",
       "    </tr>\n",
       "    <tr>\n",
       "      <th>1</th>\n",
       "      <td>2</td>\n",
       "      <td>15647311</td>\n",
       "      <td>Hill</td>\n",
       "      <td>608</td>\n",
       "      <td>Spain</td>\n",
       "      <td>Female</td>\n",
       "      <td>41</td>\n",
       "      <td>1.0</td>\n",
       "      <td>83807.86</td>\n",
       "      <td>1</td>\n",
       "      <td>0</td>\n",
       "      <td>1</td>\n",
       "      <td>112542.58</td>\n",
       "      <td>0</td>\n",
       "    </tr>\n",
       "    <tr>\n",
       "      <th>2</th>\n",
       "      <td>3</td>\n",
       "      <td>15619304</td>\n",
       "      <td>Onio</td>\n",
       "      <td>502</td>\n",
       "      <td>France</td>\n",
       "      <td>Female</td>\n",
       "      <td>42</td>\n",
       "      <td>8.0</td>\n",
       "      <td>159660.80</td>\n",
       "      <td>3</td>\n",
       "      <td>1</td>\n",
       "      <td>0</td>\n",
       "      <td>113931.57</td>\n",
       "      <td>1</td>\n",
       "    </tr>\n",
       "    <tr>\n",
       "      <th>3</th>\n",
       "      <td>4</td>\n",
       "      <td>15701354</td>\n",
       "      <td>Boni</td>\n",
       "      <td>699</td>\n",
       "      <td>France</td>\n",
       "      <td>Female</td>\n",
       "      <td>39</td>\n",
       "      <td>1.0</td>\n",
       "      <td>0.00</td>\n",
       "      <td>2</td>\n",
       "      <td>0</td>\n",
       "      <td>0</td>\n",
       "      <td>93826.63</td>\n",
       "      <td>0</td>\n",
       "    </tr>\n",
       "    <tr>\n",
       "      <th>4</th>\n",
       "      <td>5</td>\n",
       "      <td>15737888</td>\n",
       "      <td>Mitchell</td>\n",
       "      <td>850</td>\n",
       "      <td>Spain</td>\n",
       "      <td>Female</td>\n",
       "      <td>43</td>\n",
       "      <td>2.0</td>\n",
       "      <td>125510.82</td>\n",
       "      <td>1</td>\n",
       "      <td>1</td>\n",
       "      <td>1</td>\n",
       "      <td>79084.10</td>\n",
       "      <td>0</td>\n",
       "    </tr>\n",
       "  </tbody>\n",
       "</table>\n",
       "</div>"
      ],
      "text/plain": [
       "   RowNumber  CustomerId   Surname  CreditScore Geography  Gender  Age  \\\n",
       "0          1    15634602  Hargrave          619    France  Female   42   \n",
       "1          2    15647311      Hill          608     Spain  Female   41   \n",
       "2          3    15619304      Onio          502    France  Female   42   \n",
       "3          4    15701354      Boni          699    France  Female   39   \n",
       "4          5    15737888  Mitchell          850     Spain  Female   43   \n",
       "\n",
       "   Tenure    Balance  NumOfProducts  HasCrCard  IsActiveMember  \\\n",
       "0     2.0       0.00              1          1               1   \n",
       "1     1.0   83807.86              1          0               1   \n",
       "2     8.0  159660.80              3          1               0   \n",
       "3     1.0       0.00              2          0               0   \n",
       "4     2.0  125510.82              1          1               1   \n",
       "\n",
       "   EstimatedSalary  Exited  \n",
       "0        101348.88       1  \n",
       "1        112542.58       0  \n",
       "2        113931.57       1  \n",
       "3         93826.63       0  \n",
       "4         79084.10       0  "
      ]
     },
     "execution_count": 47,
     "metadata": {},
     "output_type": "execute_result"
    }
   ],
   "source": [
    "# examine data\n",
    "\n",
    "data.head()"
   ]
  },
  {
   "cell_type": "code",
   "execution_count": 48,
   "metadata": {},
   "outputs": [
    {
     "name": "stdout",
     "output_type": "stream",
     "text": [
      "<class 'pandas.core.frame.DataFrame'>\n",
      "RangeIndex: 10000 entries, 0 to 9999\n",
      "Data columns (total 14 columns):\n",
      " #   Column           Non-Null Count  Dtype  \n",
      "---  ------           --------------  -----  \n",
      " 0   RowNumber        10000 non-null  int64  \n",
      " 1   CustomerId       10000 non-null  int64  \n",
      " 2   Surname          10000 non-null  object \n",
      " 3   CreditScore      10000 non-null  int64  \n",
      " 4   Geography        10000 non-null  object \n",
      " 5   Gender           10000 non-null  object \n",
      " 6   Age              10000 non-null  int64  \n",
      " 7   Tenure           9091 non-null   float64\n",
      " 8   Balance          10000 non-null  float64\n",
      " 9   NumOfProducts    10000 non-null  int64  \n",
      " 10  HasCrCard        10000 non-null  int64  \n",
      " 11  IsActiveMember   10000 non-null  int64  \n",
      " 12  EstimatedSalary  10000 non-null  float64\n",
      " 13  Exited           10000 non-null  int64  \n",
      "dtypes: float64(3), int64(8), object(3)\n",
      "memory usage: 1.1+ MB\n"
     ]
    }
   ],
   "source": [
    "data.info()"
   ]
  },
  {
   "cell_type": "markdown",
   "metadata": {},
   "source": [
    "A couple of things to do before we work with the data. We could rename the columns if we wanted to, but due to the format we would need to manually rename them, so we will not do that. What we should try and figure out, then, is the missing values in the \"tenure\" column.\n",
    "\n",
    "According to our dataset, the tenure value is the period of maturation for a fixed deposit. The null values likely are for people who do not have tenure, whereas values of 0 are ones where they have a newly acquired one. For the purposes of analysis, it should be fine to fill out null values in the tenure column with 0."
   ]
  },
  {
   "cell_type": "code",
   "execution_count": 49,
   "metadata": {},
   "outputs": [],
   "source": [
    "# fill null values\n",
    "\n",
    "data['Tenure'] = data['Tenure'].fillna(0)"
   ]
  },
  {
   "cell_type": "markdown",
   "metadata": {},
   "source": [
    "Before we work on the data preparation, let's also take a look at the balance of our target classes."
   ]
  },
  {
   "cell_type": "code",
   "execution_count": 50,
   "metadata": {},
   "outputs": [
    {
     "data": {
      "text/plain": [
       "0    7963\n",
       "1    2037\n",
       "Name: Exited, dtype: int64"
      ]
     },
     "execution_count": 50,
     "metadata": {},
     "output_type": "execute_result"
    }
   ],
   "source": [
    "data['Exited'].value_counts()"
   ]
  },
  {
   "cell_type": "markdown",
   "metadata": {},
   "source": [
    "About 80% of our users have not exited. We will need to take this in mind and investigate the imbalance later."
   ]
  },
  {
   "cell_type": "markdown",
   "metadata": {},
   "source": [
    "### Data preparation\n",
    "\n",
    "Next, we should identify our features and target. We know that our target is the \"Exited\" column. The features, then are ones that we should choose to be as relevant as possible.\n",
    "\n",
    "Row number and surname are both somewhat arbitrary identifiers so they are probably not necessary to keep. CustomerID, however, could be a relevant predictor. If, for instance, there are a large amount of customers who signed up in a period who have all exited, that might indicate something. It is unlikely to result in being relevant, but should not cause much issue leaving it in. All the other features are also likely predictors.\n"
   ]
  },
  {
   "cell_type": "code",
   "execution_count": 51,
   "metadata": {},
   "outputs": [],
   "source": [
    "# create target and features\n",
    "\n",
    "target = data['Exited']\n",
    "features = data.drop(['RowNumber', 'Surname', 'Exited'], axis = 1)"
   ]
  },
  {
   "cell_type": "markdown",
   "metadata": {},
   "source": [
    "Before we split into training, validation, and test set (we will use 60% of the data to the training set, with 20% for a validation set and 20% for test set) now would be a good time to make our features into numeric dummy variables.\n",
    "\n",
    "There are two non-numeric columns: country and gender. The data only contains three countries: Germany, Spain and France. Thus, in both of these columns we can drop one of them to prevent the dummies from influencing our model more than necessary."
   ]
  },
  {
   "cell_type": "code",
   "execution_count": 52,
   "metadata": {},
   "outputs": [],
   "source": [
    "# create dummies\n",
    "\n",
    "features_ohe = pd.get_dummies(features, drop_first=True)"
   ]
  },
  {
   "cell_type": "code",
   "execution_count": 53,
   "metadata": {},
   "outputs": [],
   "source": [
    "# split into training and test set\n",
    "\n",
    "features_train, features_test, target_train, target_test = train_test_split(features_ohe, target,\n",
    "    test_size=0.20, shuffle = True, random_state = 8)\n",
    "\n",
    "# split the training set into a validation set\n",
    "\n",
    "features_train, features_valid, target_train, target_valid = train_test_split(features_train, target_train, \n",
    "    test_size=0.25, random_state= 8)"
   ]
  },
  {
   "cell_type": "code",
   "execution_count": 54,
   "metadata": {},
   "outputs": [
    {
     "name": "stdout",
     "output_type": "stream",
     "text": [
      "Features training: (6000, 12)\n",
      "Target training: (6000,) \n",
      "\n",
      "Features validation: (2000, 12)\n",
      "Target validation: (2000,) \n",
      "\n",
      "Features test: (2000, 12)\n",
      "Target test: (2000,)\n"
     ]
    }
   ],
   "source": [
    "# print the size of each set\n",
    "\n",
    "print(\"Features training:\", features_train.shape)\n",
    "print(\"Target training:\", target_train.shape, \"\\n\")\n",
    "\n",
    "print(\"Features validation:\", features_valid.shape)\n",
    "print(\"Target validation:\", target_valid.shape, \"\\n\")\n",
    "\n",
    "print(\"Features test:\", features_test.shape)\n",
    "print(\"Target test:\", target_test.shape)"
   ]
  },
  {
   "cell_type": "markdown",
   "metadata": {},
   "source": [
    "There also are different scales for our numerical variables, which likely will result in errors of the model's judgment. Before we build a model, we should deal with that."
   ]
  },
  {
   "cell_type": "code",
   "execution_count": 55,
   "metadata": {},
   "outputs": [
    {
     "name": "stderr",
     "output_type": "stream",
     "text": [
      "/tmp/ipykernel_76/1664466759.py:10: SettingWithCopyWarning: \n",
      "A value is trying to be set on a copy of a slice from a DataFrame.\n",
      "Try using .loc[row_indexer,col_indexer] = value instead\n",
      "\n",
      "See the caveats in the documentation: https://pandas.pydata.org/pandas-docs/stable/user_guide/indexing.html#returning-a-view-versus-a-copy\n",
      "  features_test[numeric] = scaler.transform(features_test[numeric])\n",
      "/opt/conda/lib/python3.9/site-packages/pandas/core/indexing.py:1738: SettingWithCopyWarning: \n",
      "A value is trying to be set on a copy of a slice from a DataFrame.\n",
      "Try using .loc[row_indexer,col_indexer] = value instead\n",
      "\n",
      "See the caveats in the documentation: https://pandas.pydata.org/pandas-docs/stable/user_guide/indexing.html#returning-a-view-versus-a-copy\n",
      "  self._setitem_single_column(loc, value[:, i].tolist(), pi)\n"
     ]
    }
   ],
   "source": [
    "# scale numeric variables\n",
    "\n",
    "numeric = ['CustomerId', 'CreditScore', 'Age', 'Tenure', 'Balance', 'NumOfProducts', 'EstimatedSalary']\n",
    "\n",
    "scaler = StandardScaler()\n",
    "scaler.fit(features_train[numeric])\n",
    "\n",
    "features_train[numeric] = scaler.transform(features_train[numeric])\n",
    "features_valid[numeric] = scaler.transform(features_valid[numeric])\n",
    "features_test[numeric] = scaler.transform(features_test[numeric])"
   ]
  },
  {
   "cell_type": "markdown",
   "metadata": {},
   "source": [
    "## Model Test\n",
    "\n",
    "First, we should look at our options between a decision tree, random forest, or logistic model to get our prediction.\n",
    "\n",
    "We also will initialize a single function that prints out a variety of the metrics we're interested in seeing. We will likely want to see each of them for multiple models, so making them a single function will clean up our code."
   ]
  },
  {
   "cell_type": "code",
   "execution_count": 56,
   "metadata": {},
   "outputs": [],
   "source": [
    "# model checking function\n",
    "\n",
    "def model_metrics(target, predicted):\n",
    "    print(\"Accuracy:\", accuracy_score(target, predicted))\n",
    "    print(\"Recall:\", recall_score(target, predicted))\n",
    "    print(\"Precision:\", precision_score(target, predicted))\n",
    "    print(\"F1:\", f1_score(target, predicted))\n",
    "    print(\"Confusion Matrix:\\n\", confusion_matrix(target, predicted))"
   ]
  },
  {
   "cell_type": "code",
   "execution_count": 57,
   "metadata": {
    "scrolled": true
   },
   "outputs": [
    {
     "name": "stdout",
     "output_type": "stream",
     "text": [
      "Accuracy: 0.7945\n",
      "Recall: 0.5125628140703518\n",
      "Precision: 0.4845605700712589\n",
      "F1: 0.4981684981684981\n",
      "Confusion Matrix:\n",
      " [[1385  217]\n",
      " [ 194  204]]\n"
     ]
    }
   ],
   "source": [
    "# decision tree\n",
    "\n",
    "model = DecisionTreeClassifier(random_state = 12345)\n",
    "model.fit(features_train, target_train)\n",
    "predicted_valid = model.predict(features_valid)\n",
    "\n",
    "model_metrics(target_valid, predicted_valid)"
   ]
  },
  {
   "cell_type": "code",
   "execution_count": 58,
   "metadata": {},
   "outputs": [
    {
     "name": "stdout",
     "output_type": "stream",
     "text": [
      "Accuracy: 0.862\n",
      "Recall: 0.4648241206030151\n",
      "Precision: 0.7459677419354839\n",
      "F1: 0.5727554179566563\n",
      "Confusion Matrix:\n",
      " [[1539   63]\n",
      " [ 213  185]]\n"
     ]
    }
   ],
   "source": [
    "# random forest\n",
    "\n",
    "model = RandomForestClassifier(random_state = 12345)\n",
    "model.fit(features_train, target_train)\n",
    "predicted_valid = model.predict(features_valid)\n",
    "\n",
    "model_metrics(target_valid, predicted_valid)"
   ]
  },
  {
   "cell_type": "code",
   "execution_count": 59,
   "metadata": {},
   "outputs": [
    {
     "name": "stdout",
     "output_type": "stream",
     "text": [
      "Accuracy: 0.8155\n",
      "Recall: 0.21608040201005024\n",
      "Precision: 0.6013986013986014\n",
      "F1: 0.31792975970425136\n",
      "Confusion Matrix:\n",
      " [[1545   57]\n",
      " [ 312   86]]\n"
     ]
    }
   ],
   "source": [
    "# logistic regression\n",
    "\n",
    "model = LogisticRegression(random_state = 12345, solver = 'liblinear')\n",
    "model.fit(features_train, target_train)\n",
    "predicted_valid = model.predict(features_valid)\n",
    "\n",
    "model_metrics(target_valid, predicted_valid)"
   ]
  },
  {
   "cell_type": "markdown",
   "metadata": {},
   "source": [
    "Just for a quick test, we performed a really simple decision tree and random forest classifier, as a means to get a benchmark on the model without tuning any sort of complicated factors. We have scores below our desired threshold for all of our metrics. From our confusion matrices, we see that there seems to be a higher likelihood of finding a false negative, possibly because most of our data are negative results.\n",
    "\n",
    "The random forest classifier seems like it is far more likely to influence the model, with it having a wide swing causing high precision, but the F1 score did not noticeably change. It's very close to our desired 0.59 result already. We can see that the random forest is more likely to result in false negatives, and the decision tree model is more skewed towards false positives.\n",
    "\n",
    "Overall, the random forest model shows the most promise, with the highest level of accuracy, as well as the most clear path on what we should do, since there are very few false positives in that model. Thus, for the remainder of the project we will focus on the random forest.\n",
    "\n",
    "To get an idea of the model on a basic level, we will also create a simple PR curve."
   ]
  },
  {
   "cell_type": "code",
   "execution_count": 60,
   "metadata": {},
   "outputs": [
    {
     "data": {
      "image/png": "[encoded data removed]",
      "text/plain": [
       "<Figure size 432x432 with 1 Axes>"
      ]
     },
     "metadata": {
      "needs_background": "light"
     },
     "output_type": "display_data"
    }
   ],
   "source": [
    "# set model to random forest\n",
    "\n",
    "model = RandomForestClassifier(random_state = 12345)\n",
    "model.fit(features_train, target_train)\n",
    "\n",
    "# check PR curve\n",
    "\n",
    "probabilities_valid = model.predict_proba(features_valid)\n",
    "precision, recall, thresholds = precision_recall_curve(\n",
    "    target_valid, probabilities_valid[:, 1]\n",
    ")\n",
    "\n",
    "plt.figure(figsize=(6, 6))\n",
    "plt.step(recall, precision, where='post')\n",
    "plt.xlabel('Recall')\n",
    "plt.ylabel('Precision')\n",
    "plt.ylim([0.0, 1.05])\n",
    "plt.xlim([0.0, 1.0])\n",
    "plt.title('Precision-Recall Curve')\n",
    "plt.show() "
   ]
  },
  {
   "cell_type": "markdown",
   "metadata": {},
   "source": [
    "Not that we were expecting amazing results from such a simple model, but this curve does seem to show that the model is already looking pretty good. We can try to make it even more robust, which is necessary as the random forest did not give us our desired F1 score."
   ]
  },
  {
   "cell_type": "markdown",
   "metadata": {},
   "source": [
    "## Model improvement\n",
    "\n",
    "Seeing the results from the Random Forest model shows that will likely be our best choice for this problem. Now we need to tweak the model to get our desired accuracy."
   ]
  },
  {
   "cell_type": "markdown",
   "metadata": {},
   "source": [
    "It seems that balancing our class weight did not have much impact on our data. It is slightly more accurate (0.001 more) but the recall is lower and so that causes the F1 score to be lower than leaving them unbalanced.\n",
    "\n",
    "We can also try tuning some hyperparameters and see what impact that has on pushing our F1 score up. We will start by seeing a minimum sample split tuning. However, before we do anything involving tuning our model, we should try and get our data in the most useful state it can be."
   ]
  },
  {
   "cell_type": "code",
   "execution_count": 61,
   "metadata": {},
   "outputs": [
    {
     "name": "stdout",
     "output_type": "stream",
     "text": [
      "Accuracy: 0.8515\n",
      "Recall: 0.5150753768844221\n",
      "Precision: 0.6634304207119741\n",
      "F1: 0.5799151343705798\n",
      "Confusion Matrix:\n",
      " [[1498  104]\n",
      " [ 193  205]]\n"
     ]
    }
   ],
   "source": [
    "# create upsample function\n",
    "\n",
    "def upsample(features, target, repeat):\n",
    "    features_zeros = features[target == 0]\n",
    "    features_ones = features[target == 1]\n",
    "    target_zeros = target[target == 0]\n",
    "    target_ones = target[target == 1]\n",
    "\n",
    "    features_upsampled = pd.concat([features_zeros] + [features_ones] * repeat)\n",
    "    target_upsampled = pd.concat([target_zeros] + [target_ones] * repeat)\n",
    "\n",
    "    features_upsampled, target_upsampled = shuffle(\n",
    "        features_upsampled, target_upsampled, random_state = 12345\n",
    "    )\n",
    "\n",
    "    return features_upsampled, target_upsampled\n",
    "\n",
    "# upsample data\n",
    "\n",
    "features_upsampled, target_upsampled = upsample(\n",
    "    features_train, target_train, 10\n",
    ")\n",
    "\n",
    "# create upsampled model\n",
    "\n",
    "model = RandomForestClassifier(random_state = 12345)\n",
    "model.fit(features_upsampled, target_upsampled)\n",
    "predicted_valid = model.predict(features_valid)\n",
    "\n",
    "model_metrics(target_valid, predicted_valid)"
   ]
  },
  {
   "cell_type": "code",
   "execution_count": 62,
   "metadata": {},
   "outputs": [
    {
     "name": "stdout",
     "output_type": "stream",
     "text": [
      "Accuracy: 0.5535\n",
      "Recall: 0.9472361809045227\n",
      "Precision: 0.3018414731785428\n",
      "F1: 0.4578020643594414\n",
      "Confusion Matrix:\n",
      " [[730 872]\n",
      " [ 21 377]]\n"
     ]
    }
   ],
   "source": [
    "# create downsample function\n",
    "\n",
    "def downsample(features, target, fraction):\n",
    "    features_zeros = features[target == 0]\n",
    "    features_ones = features[target == 1]\n",
    "    target_zeros = target[target == 0]\n",
    "    target_ones = target[target == 1]\n",
    "\n",
    "    features_downsampled = pd.concat(\n",
    "        [features_zeros.sample(frac=fraction, random_state = 12345)]\n",
    "        + [features_ones]\n",
    "    )\n",
    "    target_downsampled = pd.concat(\n",
    "        [target_zeros.sample(frac=fraction, random_state = 12345)]\n",
    "        + [target_ones]\n",
    "    )\n",
    "\n",
    "    features_downsampled, target_downsampled = shuffle(\n",
    "        features_downsampled, target_downsampled, random_state = 12345\n",
    "    )\n",
    "\n",
    "    return features_downsampled, target_downsampled\n",
    "\n",
    "# downsample data\n",
    "\n",
    "features_downsampled, target_downsampled = downsample(\n",
    "    features_train, target_train, 0.1\n",
    ")\n",
    "\n",
    "# create downsampled model\n",
    "\n",
    "model = RandomForestClassifier(random_state = 12345)\n",
    "model.fit(features_downsampled, target_downsampled)\n",
    "predicted_valid = model.predict(features_valid)\n",
    "\n",
    "model_metrics(target_valid, predicted_valid)"
   ]
  },
  {
   "cell_type": "markdown",
   "metadata": {},
   "source": [
    "The upsampling is very promising. It increased our F1 slightly by simply going to 10 observations. In comparison, the downsampling, while it did reduce the issue with our false negatives, also ended up dramatically raising our false positives so our F1 score took a massive hit. It seems that upsampling is the way to go.\n",
    "\n",
    "Firstly, we can aim to get a larger upsample as that will lead to am improvement in our F1 score, but it will have diminishing returns and if we perform too many upsamples then it could become counterproductive."
   ]
  },
  {
   "cell_type": "code",
   "execution_count": 63,
   "metadata": {},
   "outputs": [
    {
     "name": "stdout",
     "output_type": "stream",
     "text": [
      "Accuracy: 0.8425\n",
      "Recall: 0.4899497487437186\n",
      "Precision: 0.6351791530944625\n",
      "F1: 0.5531914893617021\n",
      "Confusion Matrix:\n",
      " [[1490  112]\n",
      " [ 203  195]]\n"
     ]
    }
   ],
   "source": [
    "# set model using upsampled data\n",
    "\n",
    "features_upsampled, target_upsampled = upsample(\n",
    "    features_train, target_train, 100\n",
    ")\n",
    "\n",
    "model = RandomForestClassifier(random_state = 12345)\n",
    "model.fit(features_upsampled, target_upsampled)\n",
    "predicted_valid = model.predict(features_valid)\n",
    "\n",
    "model_metrics(target_valid, predicted_valid)"
   ]
  },
  {
   "cell_type": "markdown",
   "metadata": {},
   "source": [
    "Our 10 upsamples did reduce our precision more than they increased our recall. As we take more upsamples we lose precision faster than we gain recall. We will stick to upsampling just 10 times."
   ]
  },
  {
   "cell_type": "code",
   "execution_count": 64,
   "metadata": {},
   "outputs": [],
   "source": [
    "features_upsampled, target_upsampled = upsample(\n",
    "    features_train, target_train, 10\n",
    ")"
   ]
  },
  {
   "cell_type": "markdown",
   "metadata": {},
   "source": [
    "Next, we might wish to look at adjusting our thresholds."
   ]
  },
  {
   "cell_type": "code",
   "execution_count": 65,
   "metadata": {},
   "outputs": [
    {
     "name": "stdout",
     "output_type": "stream",
     "text": [
      "Threshold = 0.00 | Precision = 0.208, Recall = 0.997, F1 = 0.344\n",
      "Threshold = 0.02 | Precision = 0.231, Recall = 0.992, F1 = 0.375\n",
      "Threshold = 0.04 | Precision = 0.256, Recall = 0.982, F1 = 0.406\n",
      "Threshold = 0.06 | Precision = 0.279, Recall = 0.970, F1 = 0.433\n",
      "Threshold = 0.08 | Precision = 0.301, Recall = 0.962, F1 = 0.458\n",
      "Threshold = 0.10 | Precision = 0.318, Recall = 0.935, F1 = 0.474\n",
      "Threshold = 0.12 | Precision = 0.337, Recall = 0.915, F1 = 0.492\n",
      "Threshold = 0.14 | Precision = 0.349, Recall = 0.884, F1 = 0.501\n",
      "Threshold = 0.16 | Precision = 0.365, Recall = 0.859, F1 = 0.512\n",
      "Threshold = 0.18 | Precision = 0.381, Recall = 0.837, F1 = 0.524\n",
      "Threshold = 0.20 | Precision = 0.398, Recall = 0.819, F1 = 0.535\n",
      "Threshold = 0.22 | Precision = 0.418, Recall = 0.799, F1 = 0.549\n",
      "Threshold = 0.24 | Precision = 0.435, Recall = 0.779, F1 = 0.559\n",
      "Threshold = 0.26 | Precision = 0.457, Recall = 0.759, F1 = 0.570\n",
      "Threshold = 0.28 | Precision = 0.473, Recall = 0.731, F1 = 0.575\n",
      "Threshold = 0.30 | Precision = 0.489, Recall = 0.709, F1 = 0.578\n",
      "Threshold = 0.32 | Precision = 0.509, Recall = 0.688, F1 = 0.585\n",
      "Threshold = 0.34 | Precision = 0.535, Recall = 0.658, F1 = 0.590\n",
      "Threshold = 0.36 | Precision = 0.557, Recall = 0.646, F1 = 0.598\n",
      "Threshold = 0.38 | Precision = 0.570, Recall = 0.626, F1 = 0.596\n",
      "Threshold = 0.40 | Precision = 0.582, Recall = 0.601, F1 = 0.591\n",
      "Threshold = 0.42 | Precision = 0.596, Recall = 0.583, F1 = 0.590\n",
      "Threshold = 0.44 | Precision = 0.609, Recall = 0.555, F1 = 0.581\n",
      "Threshold = 0.46 | Precision = 0.616, Recall = 0.545, F1 = 0.579\n",
      "Threshold = 0.48 | Precision = 0.630, Recall = 0.525, F1 = 0.573\n",
      "Threshold = 0.50 | Precision = 0.635, Recall = 0.490, F1 = 0.553\n",
      "Threshold = 0.52 | Precision = 0.655, Recall = 0.472, F1 = 0.549\n",
      "Threshold = 0.54 | Precision = 0.683, Recall = 0.455, F1 = 0.546\n",
      "Threshold = 0.56 | Precision = 0.708, Recall = 0.432, F1 = 0.537\n",
      "Threshold = 0.58 | Precision = 0.725, Recall = 0.425, F1 = 0.536\n",
      "Threshold = 0.60 | Precision = 0.733, Recall = 0.407, F1 = 0.523\n",
      "Threshold = 0.62 | Precision = 0.739, Recall = 0.377, F1 = 0.499\n",
      "Threshold = 0.64 | Precision = 0.753, Recall = 0.359, F1 = 0.486\n",
      "Threshold = 0.66 | Precision = 0.758, Recall = 0.347, F1 = 0.476\n",
      "Threshold = 0.68 | Precision = 0.762, Recall = 0.314, F1 = 0.445\n"
     ]
    }
   ],
   "source": [
    "# check threshold adjustments\n",
    "\n",
    "probabilities_valid = model.predict_proba(features_valid)\n",
    "probabilities_one_valid = probabilities_valid[:, 1]\n",
    "\n",
    "for threshold in np.arange(0, 0.7, 0.02):\n",
    "    predicted_valid = probabilities_one_valid > threshold\n",
    "    precision = precision_score(target_valid, predicted_valid)\n",
    "    recall = recall_score(target_valid, predicted_valid)\n",
    "    f1 = f1_score(target_valid, predicted_valid)\n",
    "\n",
    "    print('Threshold = {:.2f} | Precision = {:.3f}, Recall = {:.3f}, F1 = {:.3f}'.format(\n",
    "                threshold, precision, recall, f1))"
   ]
  },
  {
   "cell_type": "markdown",
   "metadata": {},
   "source": [
    "We can see here that raising our threshold does slowly raise our F1 score, as the recall and precision become more balanced. In between a threshold of 0.36, we see a maximized F1 score of 0.598 - this is actually good enough for our objective. We also see that it will be maximized at that point, as once we pass it, our recall drops and the F1 score begins to decline."
   ]
  },
  {
   "cell_type": "code",
   "execution_count": 66,
   "metadata": {},
   "outputs": [
    {
     "name": "stdout",
     "output_type": "stream",
     "text": [
      "Accuracy: 0.8345\n",
      "Recall: 0.6005025125628141\n",
      "Precision: 0.5815085158150851\n",
      "F1: 0.5908529048207664\n",
      "Confusion Matrix:\n",
      " [[1430  172]\n",
      " [ 159  239]]\n"
     ]
    }
   ],
   "source": [
    "# set predictions with the threshold\n",
    "\n",
    "probabilities_valid = model.predict_proba(features_valid)\n",
    "probabilities_one_valid = probabilities_valid[:, 1]\n",
    "predicted_valid = probabilities_one_valid > 0.4\n",
    "\n",
    "model_metrics(target_valid, predicted_valid)"
   ]
  },
  {
   "cell_type": "markdown",
   "metadata": {},
   "source": [
    "To get a handle on how well our model is doing, let's make a ROC curve to find out our false positive rate."
   ]
  },
  {
   "cell_type": "code",
   "execution_count": 67,
   "metadata": {},
   "outputs": [
    {
     "data": {
      "image/png": "[encoded data removed]",
      "text/plain": [
       "<Figure size 432x288 with 1 Axes>"
      ]
     },
     "metadata": {
      "needs_background": "light"
     },
     "output_type": "display_data"
    }
   ],
   "source": [
    "# create auc_roc score\n",
    "\n",
    "auc_roc = roc_auc_score(target_valid, probabilities_one_valid)\n",
    "fpr, tpr, thresholds = roc_curve(target_valid, probabilities_one_valid)\n",
    "\n",
    "# create plot\n",
    "\n",
    "plt.figure()\n",
    "plt.plot(fpr, tpr)\n",
    "\n",
    "# ROC curve for random model (looks like a straight line)\n",
    "\n",
    "plt.plot([0, 1], [0, 1], linestyle='--')\n",
    "\n",
    "# set axes\n",
    "\n",
    "plt.xlim([0, 1])\n",
    "plt.ylim([0, 1])\n",
    "\n",
    "# label graph\n",
    "\n",
    "plt.xlabel('False Positive Rate')\n",
    "plt.ylabel('True Positive Rate')\n",
    "plt.title('ROC curve')\n",
    "\n",
    "# display graph\n",
    "\n",
    "plt.show()"
   ]
  },
  {
   "cell_type": "markdown",
   "metadata": {},
   "source": [
    "We receive a pretty steep curve here. It's a sign that our model is looking quite good. Based on the curvature, it seems like it might start to become more difficult to achieve significantly greater results than the model we have right now. However, we can still give it a shot, by seeing what happens if we tune our hyperparameters."
   ]
  },
  {
   "cell_type": "markdown",
   "metadata": {},
   "source": [
    "## Parameter tuning\n",
    "\n",
    "Since there are many more 0 observations on our \"Exited\" column than there are 1s, the first thing to consider would be what results we would get balancing the classes."
   ]
  },
  {
   "cell_type": "code",
   "execution_count": 68,
   "metadata": {
    "scrolled": true
   },
   "outputs": [
    {
     "name": "stdout",
     "output_type": "stream",
     "text": [
      "Accuracy: 0.8425\n",
      "Recall: 0.4899497487437186\n",
      "Precision: 0.6351791530944625\n",
      "F1: 0.5531914893617021\n",
      "Confusion Matrix:\n",
      " [[1490  112]\n",
      " [ 203  195]]\n"
     ]
    }
   ],
   "source": [
    "# balanced classes\n",
    "\n",
    "balance_model = RandomForestClassifier(class_weight = 'balanced', random_state = 12345)\n",
    "balance_model.fit(features_upsampled, target_upsampled)\n",
    "predicted_valid = model.predict(features_valid)\n",
    "\n",
    "model_metrics(target_valid, predicted_valid)"
   ]
  },
  {
   "cell_type": "markdown",
   "metadata": {},
   "source": [
    "Balancing our classes slightly improves our accuracy, but the tradeoff is that our recall has dropped too much and as a result, the F1 score is lower."
   ]
  },
  {
   "cell_type": "code",
   "execution_count": 69,
   "metadata": {},
   "outputs": [
    {
     "name": "stdout",
     "output_type": "stream",
     "text": [
      "min samples = 2 : \n",
      "\n",
      "Accuracy: 0.8515\n",
      "Recall: 0.5150753768844221\n",
      "Precision: 0.6634304207119741\n",
      "F1: 0.5799151343705798\n",
      "Confusion Matrix:\n",
      " [[1498  104]\n",
      " [ 193  205]]\n",
      "min samples = 3 : \n",
      "\n",
      "Accuracy: 0.85\n",
      "Recall: 0.5201005025125628\n",
      "Precision: 0.6550632911392406\n",
      "F1: 0.5798319327731092\n",
      "Confusion Matrix:\n",
      " [[1493  109]\n",
      " [ 191  207]]\n",
      "min samples = 4 : \n",
      "\n",
      "Accuracy: 0.851\n",
      "Recall: 0.5226130653266332\n",
      "Precision: 0.6582278481012658\n",
      "F1: 0.5826330532212886\n",
      "Confusion Matrix:\n",
      " [[1494  108]\n",
      " [ 190  208]]\n",
      "min samples = 5 : \n",
      "\n",
      "Accuracy: 0.8465\n",
      "Recall: 0.5025125628140703\n",
      "Precision: 0.6472491909385113\n",
      "F1: 0.5657708628005658\n",
      "Confusion Matrix:\n",
      " [[1493  109]\n",
      " [ 198  200]]\n",
      "min samples = 6 : \n",
      "\n",
      "Accuracy: 0.8485\n",
      "Recall: 0.5326633165829145\n",
      "Precision: 0.6443768996960486\n",
      "F1: 0.5832187070151307\n",
      "Confusion Matrix:\n",
      " [[1485  117]\n",
      " [ 186  212]]\n",
      "min samples = 7 : \n",
      "\n",
      "Accuracy: 0.85\n",
      "Recall: 0.542713567839196\n",
      "Precision: 0.6467065868263473\n",
      "F1: 0.5901639344262296\n",
      "Confusion Matrix:\n",
      " [[1484  118]\n",
      " [ 182  216]]\n",
      "min samples = 8 : \n",
      "\n",
      "Accuracy: 0.8515\n",
      "Recall: 0.5552763819095478\n",
      "Precision: 0.6480938416422287\n",
      "F1: 0.5981055480378891\n",
      "Confusion Matrix:\n",
      " [[1482  120]\n",
      " [ 177  221]]\n",
      "min samples = 9 : \n",
      "\n",
      "Accuracy: 0.8465\n",
      "Recall: 0.5552763819095478\n",
      "Precision: 0.6296296296296297\n",
      "F1: 0.5901201602136181\n",
      "Confusion Matrix:\n",
      " [[1472  130]\n",
      " [ 177  221]]\n",
      "min samples = 10 : \n",
      "\n",
      "Accuracy: 0.8465\n",
      "Recall: 0.5628140703517588\n",
      "Precision: 0.6274509803921569\n",
      "F1: 0.5933774834437086\n",
      "Confusion Matrix:\n",
      " [[1469  133]\n",
      " [ 174  224]]\n",
      "min samples = 11 : \n",
      "\n",
      "Accuracy: 0.8415\n",
      "Recall: 0.5728643216080402\n",
      "Precision: 0.608\n",
      "F1: 0.5899094437257438\n",
      "Confusion Matrix:\n",
      " [[1455  147]\n",
      " [ 170  228]]\n",
      "min samples = 12 : \n",
      "\n",
      "Accuracy: 0.8425\n",
      "Recall: 0.5829145728643216\n",
      "Precision: 0.6089238845144357\n",
      "F1: 0.5956354300385109\n",
      "Confusion Matrix:\n",
      " [[1453  149]\n",
      " [ 166  232]]\n",
      "min samples = 13 : \n",
      "\n",
      "Accuracy: 0.8375\n",
      "Recall: 0.585427135678392\n",
      "Precision: 0.5928753180661578\n",
      "F1: 0.5891276864728192\n",
      "Confusion Matrix:\n",
      " [[1442  160]\n",
      " [ 165  233]]\n",
      "min samples = 14 : \n",
      "\n",
      "Accuracy: 0.8355\n",
      "Recall: 0.5954773869346733\n",
      "Precision: 0.5851851851851851\n",
      "F1: 0.5902864259028642\n",
      "Confusion Matrix:\n",
      " [[1434  168]\n",
      " [ 161  237]]\n",
      "min samples = 15 : \n",
      "\n",
      "Accuracy: 0.834\n",
      "Recall: 0.5954773869346733\n",
      "Precision: 0.5808823529411765\n",
      "F1: 0.5880893300248139\n",
      "Confusion Matrix:\n",
      " [[1431  171]\n",
      " [ 161  237]]\n",
      "min samples = 16 : \n",
      "\n",
      "Accuracy: 0.8375\n",
      "Recall: 0.6256281407035176\n",
      "Precision: 0.5858823529411765\n",
      "F1: 0.6051032806804374\n",
      "Confusion Matrix:\n",
      " [[1426  176]\n",
      " [ 149  249]]\n",
      "min samples = 17 : \n",
      "\n",
      "Accuracy: 0.832\n",
      "Recall: 0.635678391959799\n",
      "Precision: 0.5698198198198198\n",
      "F1: 0.6009501187648456\n",
      "Confusion Matrix:\n",
      " [[1411  191]\n",
      " [ 145  253]]\n",
      "min samples = 18 : \n",
      "\n",
      "Accuracy: 0.831\n",
      "Recall: 0.635678391959799\n",
      "Precision: 0.5672645739910314\n",
      "F1: 0.5995260663507109\n",
      "Confusion Matrix:\n",
      " [[1409  193]\n",
      " [ 145  253]]\n",
      "min samples = 19 : \n",
      "\n",
      "Accuracy: 0.8305\n",
      "Recall: 0.6432160804020101\n",
      "Precision: 0.565121412803532\n",
      "F1: 0.6016451233842538\n",
      "Confusion Matrix:\n",
      " [[1405  197]\n",
      " [ 142  256]]\n",
      "min samples = 20 : \n",
      "\n",
      "Accuracy: 0.8265\n",
      "Recall: 0.6407035175879398\n",
      "Precision: 0.5555555555555556\n",
      "F1: 0.5950991831971996\n",
      "Confusion Matrix:\n",
      " [[1398  204]\n",
      " [ 143  255]]\n",
      "min samples = 21 : \n",
      "\n",
      "Accuracy: 0.829\n",
      "Recall: 0.6683417085427136\n",
      "Precision: 0.5588235294117647\n",
      "F1: 0.6086956521739132\n",
      "Confusion Matrix:\n",
      " [[1392  210]\n",
      " [ 132  266]]\n",
      "min samples = 22 : \n",
      "\n",
      "Accuracy: 0.8255\n",
      "Recall: 0.6608040201005025\n",
      "Precision: 0.5513626834381551\n",
      "F1: 0.6011428571428571\n",
      "Confusion Matrix:\n",
      " [[1388  214]\n",
      " [ 135  263]]\n",
      "min samples = 23 : \n",
      "\n",
      "Accuracy: 0.82\n",
      "Recall: 0.6532663316582915\n",
      "Precision: 0.5394190871369294\n",
      "F1: 0.5909090909090908\n",
      "Confusion Matrix:\n",
      " [[1380  222]\n",
      " [ 138  260]]\n",
      "min samples = 24 : \n",
      "\n",
      "Accuracy: 0.8205\n",
      "Recall: 0.6733668341708543\n",
      "Precision: 0.5392354124748491\n",
      "F1: 0.5988826815642458\n",
      "Confusion Matrix:\n",
      " [[1373  229]\n",
      " [ 130  268]]\n",
      "min samples = 25 : \n",
      "\n",
      "Accuracy: 0.8205\n",
      "Recall: 0.6809045226130653\n",
      "Precision: 0.5387673956262425\n",
      "F1: 0.6015538290788013\n",
      "Confusion Matrix:\n",
      " [[1370  232]\n",
      " [ 127  271]]\n",
      "min samples = 26 : \n",
      "\n",
      "Accuracy: 0.8195\n",
      "Recall: 0.7085427135678392\n",
      "Precision: 0.5351043643263758\n",
      "F1: 0.6097297297297298\n",
      "Confusion Matrix:\n",
      " [[1357  245]\n",
      " [ 116  282]]\n",
      "min samples = 27 : \n",
      "\n",
      "Accuracy: 0.8145\n",
      "Recall: 0.7135678391959799\n",
      "Precision: 0.5249537892791127\n",
      "F1: 0.6048988285410011\n",
      "Confusion Matrix:\n",
      " [[1345  257]\n",
      " [ 114  284]]\n",
      "min samples = 28 : \n",
      "\n",
      "Accuracy: 0.814\n",
      "Recall: 0.7010050251256281\n",
      "Precision: 0.5244360902255639\n",
      "F1: 0.6\n",
      "Confusion Matrix:\n",
      " [[1349  253]\n",
      " [ 119  279]]\n",
      "min samples = 29 : \n",
      "\n",
      "Accuracy: 0.8135\n",
      "Recall: 0.7060301507537688\n",
      "Precision: 0.5232774674115456\n",
      "F1: 0.6010695187165775\n",
      "Confusion Matrix:\n",
      " [[1346  256]\n",
      " [ 117  281]]\n",
      "min samples = 30 : \n",
      "\n",
      "Accuracy: 0.811\n",
      "Recall: 0.7236180904522613\n",
      "Precision: 0.5179856115107914\n",
      "F1: 0.6037735849056605\n",
      "Confusion Matrix:\n",
      " [[1334  268]\n",
      " [ 110  288]]\n",
      "min samples = 31 : \n",
      "\n",
      "Accuracy: 0.8115\n",
      "Recall: 0.7135678391959799\n",
      "Precision: 0.5191956124314442\n",
      "F1: 0.601058201058201\n",
      "Confusion Matrix:\n",
      " [[1339  263]\n",
      " [ 114  284]]\n",
      "min samples = 32 : \n",
      "\n",
      "Accuracy: 0.803\n",
      "Recall: 0.7160804020100503\n",
      "Precision: 0.5035335689045937\n",
      "F1: 0.5912863070539419\n",
      "Confusion Matrix:\n",
      " [[1321  281]\n",
      " [ 113  285]]\n",
      "min samples = 33 : \n",
      "\n",
      "Accuracy: 0.807\n",
      "Recall: 0.7361809045226131\n",
      "Precision: 0.5104529616724739\n",
      "F1: 0.6028806584362141\n",
      "Confusion Matrix:\n",
      " [[1321  281]\n",
      " [ 105  293]]\n",
      "min samples = 34 : \n",
      "\n",
      "Accuracy: 0.798\n",
      "Recall: 0.7261306532663316\n",
      "Precision: 0.4948630136986301\n",
      "F1: 0.5885947046843177\n",
      "Confusion Matrix:\n",
      " [[1307  295]\n",
      " [ 109  289]]\n",
      "min samples = 35 : \n",
      "\n",
      "Accuracy: 0.797\n",
      "Recall: 0.7386934673366834\n",
      "Precision: 0.49328859060402686\n",
      "F1: 0.5915492957746479\n",
      "Confusion Matrix:\n",
      " [[1300  302]\n",
      " [ 104  294]]\n",
      "min samples = 36 : \n",
      "\n",
      "Accuracy: 0.79\n",
      "Recall: 0.7261306532663316\n",
      "Precision: 0.4816666666666667\n",
      "F1: 0.5791583166332666\n",
      "Confusion Matrix:\n",
      " [[1291  311]\n",
      " [ 109  289]]\n",
      "min samples = 37 : \n",
      "\n",
      "Accuracy: 0.793\n",
      "Recall: 0.7562814070351759\n",
      "Precision: 0.48705501618122976\n",
      "F1: 0.5925196850393701\n",
      "Confusion Matrix:\n",
      " [[1285  317]\n",
      " [  97  301]]\n",
      "min samples = 38 : \n",
      "\n",
      "Accuracy: 0.787\n",
      "Recall: 0.7487437185929648\n",
      "Precision: 0.4775641025641026\n",
      "F1: 0.5831702544031311\n",
      "Confusion Matrix:\n",
      " [[1276  326]\n",
      " [ 100  298]]\n",
      "min samples = 39 : \n",
      "\n",
      "Accuracy: 0.7895\n",
      "Recall: 0.7688442211055276\n",
      "Precision: 0.4818897637795276\n",
      "F1: 0.5924491771539206\n",
      "Confusion Matrix:\n",
      " [[1273  329]\n",
      " [  92  306]]\n",
      "min samples = 40 : \n",
      "\n",
      "Accuracy: 0.7845\n",
      "Recall: 0.7562814070351759\n",
      "Precision: 0.47401574803149604\n",
      "F1: 0.5827686350435625\n",
      "Confusion Matrix:\n",
      " [[1268  334]\n",
      " [  97  301]]\n",
      "min samples = 41 : \n",
      "\n",
      "Accuracy: 0.7915\n",
      "Recall: 0.7613065326633166\n",
      "Precision: 0.4848\n",
      "F1: 0.5923753665689149\n",
      "Confusion Matrix:\n",
      " [[1280  322]\n",
      " [  95  303]]\n",
      "min samples = 42 : \n",
      "\n",
      "Accuracy: 0.7865\n",
      "Recall: 0.7713567839195979\n",
      "Precision: 0.4774494556765163\n",
      "F1: 0.5898174831892411\n",
      "Confusion Matrix:\n",
      " [[1266  336]\n",
      " [  91  307]]\n",
      "min samples = 43 : \n",
      "\n",
      "Accuracy: 0.7785\n",
      "Recall: 0.7763819095477387\n",
      "Precision: 0.4660633484162896\n",
      "F1: 0.5824693685202639\n",
      "Confusion Matrix:\n",
      " [[1248  354]\n",
      " [  89  309]]\n",
      "min samples = 44 : \n",
      "\n",
      "Accuracy: 0.7775\n",
      "Recall: 0.7839195979899497\n",
      "Precision: 0.46497764530551416\n",
      "F1: 0.5837231057062675\n",
      "Confusion Matrix:\n",
      " [[1243  359]\n",
      " [  86  312]]\n",
      "min samples = 45 : \n",
      "\n",
      "Accuracy: 0.778\n",
      "Recall: 0.7814070351758794\n",
      "Precision: 0.4655688622754491\n",
      "F1: 0.5834896810506566\n",
      "Confusion Matrix:\n",
      " [[1245  357]\n",
      " [  87  311]]\n",
      "min samples = 46 : \n",
      "\n",
      "Accuracy: 0.7765\n",
      "Recall: 0.7889447236180904\n",
      "Precision: 0.4638109305760709\n",
      "F1: 0.5841860465116279\n",
      "Confusion Matrix:\n",
      " [[1239  363]\n",
      " [  84  314]]\n",
      "min samples = 47 : \n",
      "\n",
      "Accuracy: 0.765\n",
      "Recall: 0.7914572864321608\n",
      "Precision: 0.44871794871794873\n",
      "F1: 0.5727272727272728\n",
      "Confusion Matrix:\n",
      " [[1215  387]\n",
      " [  83  315]]\n",
      "min samples = 48 : \n",
      "\n",
      "Accuracy: 0.775\n",
      "Recall: 0.7964824120603015\n",
      "Precision: 0.4620991253644315\n",
      "F1: 0.584870848708487\n",
      "Confusion Matrix:\n",
      " [[1233  369]\n",
      " [  81  317]]\n",
      "min samples = 49 : \n",
      "\n",
      "Accuracy: 0.767\n",
      "Recall: 0.8040201005025126\n",
      "Precision: 0.4519774011299435\n",
      "F1: 0.5786618444846293\n",
      "Confusion Matrix:\n",
      " [[1214  388]\n",
      " [  78  320]]\n",
      "min samples = 50 : \n",
      "\n",
      "Accuracy: 0.7665\n",
      "Recall: 0.7914572864321608\n",
      "Precision: 0.45064377682403434\n",
      "F1: 0.5742935278030993\n",
      "Confusion Matrix:\n",
      " [[1218  384]\n",
      " [  83  315]]\n",
      "min samples = 51 : \n",
      "\n",
      "Accuracy: 0.7645\n",
      "Recall: 0.7989949748743719\n",
      "Precision: 0.44851904090267986\n",
      "F1: 0.5745257452574526\n",
      "Confusion Matrix:\n",
      " [[1211  391]\n",
      " [  80  318]]\n",
      "min samples = 52 : \n",
      "\n",
      "Accuracy: 0.7595\n",
      "Recall: 0.7964824120603015\n",
      "Precision: 0.4421199442119944\n",
      "F1: 0.568609865470852\n",
      "Confusion Matrix:\n",
      " [[1202  400]\n",
      " [  81  317]]\n",
      "min samples = 53 : \n",
      "\n",
      "Accuracy: 0.7575\n",
      "Recall: 0.8065326633165829\n",
      "Precision: 0.4403292181069959\n",
      "F1: 0.5696539485359361\n",
      "Confusion Matrix:\n",
      " [[1194  408]\n",
      " [  77  321]]\n",
      "min samples = 54 : \n",
      "\n",
      "Accuracy: 0.753\n",
      "Recall: 0.8115577889447236\n",
      "Precision: 0.4353099730458221\n",
      "F1: 0.5666666666666667\n",
      "Confusion Matrix:\n",
      " [[1183  419]\n",
      " [  75  323]]\n",
      "min samples = 55 : \n",
      "\n",
      "Accuracy: 0.758\n",
      "Recall: 0.8115577889447236\n",
      "Precision: 0.4412568306010929\n",
      "F1: 0.5716814159292035\n",
      "Confusion Matrix:\n",
      " [[1193  409]\n",
      " [  75  323]]\n",
      "min samples = 56 : \n",
      "\n",
      "Accuracy: 0.748\n",
      "Recall: 0.8090452261306532\n",
      "Precision: 0.42933333333333334\n",
      "F1: 0.5609756097560975\n",
      "Confusion Matrix:\n",
      " [[1174  428]\n",
      " [  76  322]]\n",
      "min samples = 57 : \n",
      "\n",
      "Accuracy: 0.749\n",
      "Recall: 0.8015075376884422\n",
      "Precision: 0.4299191374663073\n",
      "F1: 0.5596491228070176\n",
      "Confusion Matrix:\n",
      " [[1179  423]\n",
      " [  79  319]]\n",
      "min samples = 58 : \n",
      "\n",
      "Accuracy: 0.7565\n",
      "Recall: 0.8140703517587939\n",
      "Precision: 0.4396200814111262\n",
      "F1: 0.5709251101321585\n",
      "Confusion Matrix:\n",
      " [[1189  413]\n",
      " [  74  324]]\n",
      "min samples = 59 : \n",
      "\n",
      "Accuracy: 0.754\n",
      "Recall: 0.8090452261306532\n",
      "Precision: 0.4363143631436314\n",
      "F1: 0.5669014084507042\n",
      "Confusion Matrix:\n",
      " [[1186  416]\n",
      " [  76  322]]\n",
      "min samples = 60 : \n",
      "\n",
      "Accuracy: 0.7465\n",
      "Recall: 0.8165829145728644\n",
      "Precision: 0.4281949934123847\n",
      "F1: 0.5617977528089888\n",
      "Confusion Matrix:\n",
      " [[1168  434]\n",
      " [  73  325]]\n",
      "min samples = 61 : \n",
      "\n",
      "Accuracy: 0.739\n",
      "Recall: 0.8190954773869347\n",
      "Precision: 0.42010309278350516\n",
      "F1: 0.5553662691652471\n",
      "Confusion Matrix:\n",
      " [[1152  450]\n",
      " [  72  326]]\n",
      "min samples = 62 : \n",
      "\n",
      "Accuracy: 0.741\n",
      "Recall: 0.8190954773869347\n",
      "Precision: 0.422279792746114\n",
      "F1: 0.5572649572649572\n",
      "Confusion Matrix:\n",
      " [[1156  446]\n",
      " [  72  326]]\n",
      "min samples = 63 : \n",
      "\n",
      "Accuracy: 0.739\n",
      "Recall: 0.8241206030150754\n",
      "Precision: 0.4205128205128205\n",
      "F1: 0.5568760611205432\n",
      "Confusion Matrix:\n",
      " [[1150  452]\n",
      " [  70  328]]\n",
      "min samples = 64 : \n",
      "\n",
      "Accuracy: 0.7455\n",
      "Recall: 0.8291457286432161\n",
      "Precision: 0.4280155642023346\n",
      "F1: 0.5645851154833191\n",
      "Confusion Matrix:\n",
      " [[1161  441]\n",
      " [  68  330]]\n",
      "min samples = 65 : \n",
      "\n",
      "Accuracy: 0.739\n",
      "Recall: 0.8291457286432161\n",
      "Precision: 0.42091836734693877\n",
      "F1: 0.5583756345177664\n",
      "Confusion Matrix:\n",
      " [[1148  454]\n",
      " [  68  330]]\n",
      "min samples = 66 : \n",
      "\n",
      "Accuracy: 0.739\n",
      "Recall: 0.8266331658291457\n",
      "Precision: 0.42071611253196933\n",
      "F1: 0.5576271186440678\n",
      "Confusion Matrix:\n",
      " [[1149  453]\n",
      " [  69  329]]\n",
      "min samples = 67 : \n",
      "\n",
      "Accuracy: 0.7395\n",
      "Recall: 0.8391959798994975\n",
      "Precision: 0.4222503160556258\n",
      "F1: 0.561816652649285\n",
      "Confusion Matrix:\n",
      " [[1145  457]\n",
      " [  64  334]]\n",
      "min samples = 68 : \n",
      "\n",
      "Accuracy: 0.74\n",
      "Recall: 0.8442211055276382\n",
      "Precision: 0.42317380352644834\n",
      "F1: 0.5637583892617449\n",
      "Confusion Matrix:\n",
      " [[1144  458]\n",
      " [  62  336]]\n",
      "min samples = 69 : \n",
      "\n",
      "Accuracy: 0.737\n",
      "Recall: 0.8417085427135679\n",
      "Precision: 0.4197994987468672\n",
      "F1: 0.560200668896321\n",
      "Confusion Matrix:\n",
      " [[1139  463]\n",
      " [  63  335]]\n",
      "min samples = 70 : \n",
      "\n",
      "Accuracy: 0.732\n",
      "Recall: 0.8391959798994975\n",
      "Precision: 0.4143920595533499\n",
      "F1: 0.5548172757475083\n",
      "Confusion Matrix:\n",
      " [[1130  472]\n",
      " [  64  334]]\n",
      "min samples = 71 : \n",
      "\n",
      "Accuracy: 0.734\n",
      "Recall: 0.8442211055276382\n",
      "Precision: 0.41687344913151364\n",
      "F1: 0.5581395348837209\n",
      "Confusion Matrix:\n",
      " [[1132  470]\n",
      " [  62  336]]\n",
      "min samples = 72 : \n",
      "\n",
      "Accuracy: 0.725\n",
      "Recall: 0.8391959798994975\n",
      "Precision: 0.4073170731707317\n",
      "F1: 0.548440065681445\n",
      "Confusion Matrix:\n",
      " [[1116  486]\n",
      " [  64  334]]\n",
      "min samples = 73 : \n",
      "\n",
      "Accuracy: 0.733\n",
      "Recall: 0.8467336683417085\n",
      "Precision: 0.4160493827160494\n",
      "F1: 0.5579470198675497\n",
      "Confusion Matrix:\n",
      " [[1129  473]\n",
      " [  61  337]]\n",
      "min samples = 74 : \n",
      "\n",
      "Accuracy: 0.7245\n",
      "Recall: 0.8542713567839196\n",
      "Precision: 0.40816326530612246\n",
      "F1: 0.5523964256701869\n",
      "Confusion Matrix:\n",
      " [[1109  493]\n",
      " [  58  340]]\n",
      "min samples = 75 : \n",
      "\n",
      "Accuracy: 0.7275\n",
      "Recall: 0.8567839195979899\n",
      "Precision: 0.41133896260554886\n",
      "F1: 0.5558272208638957\n",
      "Confusion Matrix:\n",
      " [[1114  488]\n",
      " [  57  341]]\n",
      "min samples = 76 : \n",
      "\n",
      "Accuracy: 0.7205\n",
      "Recall: 0.8417085427135679\n",
      "Precision: 0.40312876052948254\n",
      "F1: 0.5451586655817738\n",
      "Confusion Matrix:\n",
      " [[1106  496]\n",
      " [  63  335]]\n",
      "min samples = 77 : \n",
      "\n",
      "Accuracy: 0.7205\n",
      "Recall: 0.8542713567839196\n",
      "Precision: 0.4042806183115339\n",
      "F1: 0.5488297013720743\n",
      "Confusion Matrix:\n",
      " [[1101  501]\n",
      " [  58  340]]\n",
      "min samples = 78 : \n",
      "\n",
      "Accuracy: 0.7265\n",
      "Recall: 0.8542713567839196\n",
      "Precision: 0.4101326899879373\n",
      "F1: 0.5541972290138549\n",
      "Confusion Matrix:\n",
      " [[1113  489]\n",
      " [  58  340]]\n",
      "min samples = 79 : \n",
      "\n",
      "Accuracy: 0.723\n",
      "Recall: 0.8442211055276382\n",
      "Precision: 0.4057971014492754\n",
      "F1: 0.5481239804241436\n",
      "Confusion Matrix:\n",
      " [[1110  492]\n",
      " [  62  336]]\n",
      "min samples = 80 : \n",
      "\n",
      "Accuracy: 0.7195\n",
      "Recall: 0.8542713567839196\n",
      "Precision: 0.4033214709371293\n",
      "F1: 0.547945205479452\n",
      "Confusion Matrix:\n",
      " [[1099  503]\n",
      " [  58  340]]\n",
      "min samples = 81 : \n",
      "\n",
      "Accuracy: 0.7265\n",
      "Recall: 0.8492462311557789\n",
      "Precision: 0.40969696969696967\n",
      "F1: 0.552739165985282\n",
      "Confusion Matrix:\n",
      " [[1115  487]\n",
      " [  60  338]]\n",
      "min samples = 82 : \n",
      "\n",
      "Accuracy: 0.7235\n",
      "Recall: 0.8668341708542714\n",
      "Precision: 0.40828402366863903\n",
      "F1: 0.5551086082059533\n",
      "Confusion Matrix:\n",
      " [[1102  500]\n",
      " [  53  345]]\n",
      "min samples = 83 : \n",
      "\n",
      "Accuracy: 0.723\n",
      "Recall: 0.8618090452261307\n",
      "Precision: 0.40736342042755347\n",
      "F1: 0.5532258064516129\n",
      "Confusion Matrix:\n",
      " [[1103  499]\n",
      " [  55  343]]\n",
      "min samples = 84 : \n",
      "\n",
      "Accuracy: 0.7165\n",
      "Recall: 0.8618090452261307\n",
      "Precision: 0.40116959064327484\n",
      "F1: 0.547486033519553\n",
      "Confusion Matrix:\n",
      " [[1090  512]\n",
      " [  55  343]]\n",
      "min samples = 85 : \n",
      "\n",
      "Accuracy: 0.71\n",
      "Recall: 0.8542713567839196\n",
      "Precision: 0.39443155452436196\n",
      "F1: 0.5396825396825398\n",
      "Confusion Matrix:\n",
      " [[1080  522]\n",
      " [  58  340]]\n",
      "min samples = 86 : \n",
      "\n",
      "Accuracy: 0.711\n",
      "Recall: 0.8592964824120602\n",
      "Precision: 0.3958333333333333\n",
      "F1: 0.5419968304278922\n",
      "Confusion Matrix:\n",
      " [[1080  522]\n",
      " [  56  342]]\n",
      "min samples = 87 : \n",
      "\n",
      "Accuracy: 0.7075\n",
      "Recall: 0.864321608040201\n",
      "Precision: 0.3931428571428571\n",
      "F1: 0.5404556166535743\n",
      "Confusion Matrix:\n",
      " [[1071  531]\n",
      " [  54  344]]\n",
      "min samples = 88 : \n",
      "\n",
      "Accuracy: 0.7105\n",
      "Recall: 0.8592964824120602\n",
      "Precision: 0.3953757225433526\n",
      "F1: 0.5415676959619953\n",
      "Confusion Matrix:\n",
      " [[1079  523]\n",
      " [  56  342]]\n",
      "min samples = 89 : \n",
      "\n",
      "Accuracy: 0.7115\n",
      "Recall: 0.864321608040201\n",
      "Precision: 0.39677047289504036\n",
      "F1: 0.5438735177865612\n",
      "Confusion Matrix:\n",
      " [[1079  523]\n",
      " [  54  344]]\n",
      "min samples = 90 : \n",
      "\n",
      "Accuracy: 0.708\n",
      "Recall: 0.8618090452261307\n",
      "Precision: 0.393348623853211\n",
      "F1: 0.5401574803149606\n",
      "Confusion Matrix:\n",
      " [[1073  529]\n",
      " [  55  343]]\n",
      "min samples = 91 : \n",
      "\n",
      "Accuracy: 0.7105\n",
      "Recall: 0.871859296482412\n",
      "Precision: 0.3965714285714286\n",
      "F1: 0.5451688923802043\n",
      "Confusion Matrix:\n",
      " [[1074  528]\n",
      " [  51  347]]\n",
      "min samples = 92 : \n",
      "\n",
      "Accuracy: 0.7115\n",
      "Recall: 0.8768844221105527\n",
      "Precision: 0.3979475484606613\n",
      "F1: 0.5474509803921568\n",
      "Confusion Matrix:\n",
      " [[1074  528]\n",
      " [  49  349]]\n",
      "min samples = 93 : \n",
      "\n",
      "Accuracy: 0.7095\n",
      "Recall: 0.8743718592964824\n",
      "Precision: 0.39590443686006827\n",
      "F1: 0.5450274079874706\n",
      "Confusion Matrix:\n",
      " [[1071  531]\n",
      " [  50  348]]\n",
      "min samples = 94 : \n",
      "\n",
      "Accuracy: 0.708\n",
      "Recall: 0.8768844221105527\n",
      "Precision: 0.3947963800904977\n",
      "F1: 0.5444617784711389\n",
      "Confusion Matrix:\n",
      " [[1067  535]\n",
      " [  49  349]]\n",
      "min samples = 95 : \n",
      "\n",
      "Accuracy: 0.705\n",
      "Recall: 0.8693467336683417\n",
      "Precision: 0.3914027149321267\n",
      "F1: 0.5397815912636504\n",
      "Confusion Matrix:\n",
      " [[1064  538]\n",
      " [  52  346]]\n",
      "min samples = 96 : \n",
      "\n",
      "Accuracy: 0.704\n",
      "Recall: 0.8793969849246231\n",
      "Precision: 0.39149888143176736\n",
      "F1: 0.541795665634675\n",
      "Confusion Matrix:\n",
      " [[1058  544]\n",
      " [  48  350]]\n",
      "min samples = 97 : \n",
      "\n",
      "Accuracy: 0.702\n",
      "Recall: 0.8743718592964824\n",
      "Precision: 0.38926174496644295\n",
      "F1: 0.5386996904024768\n",
      "Confusion Matrix:\n",
      " [[1056  546]\n",
      " [  50  348]]\n",
      "min samples = 98 : \n",
      "\n",
      "Accuracy: 0.709\n",
      "Recall: 0.8768844221105527\n",
      "Precision: 0.3956916099773243\n",
      "F1: 0.5453125000000001\n",
      "Confusion Matrix:\n",
      " [[1069  533]\n",
      " [  49  349]]\n",
      "min samples = 99 : \n",
      "\n",
      "Accuracy: 0.704\n",
      "Recall: 0.8793969849246231\n",
      "Precision: 0.39149888143176736\n",
      "F1: 0.541795665634675\n",
      "Confusion Matrix:\n",
      " [[1058  544]\n",
      " [  48  350]]\n"
     ]
    }
   ],
   "source": [
    "# create lists to store our values\n",
    "\n",
    "ms_f1 = []\n",
    "\n",
    "# create a loop\n",
    "\n",
    "for depth in range(2,100):\n",
    "    # create model\n",
    "    \n",
    "    sample_model = RandomForestClassifier(random_state=12345, min_samples_split=depth)\n",
    "    sample_model.fit(features_upsampled, target_upsampled)\n",
    "    \n",
    "    # predict value\n",
    "    \n",
    "    predicted_valid = sample_model.predict(features_valid)\n",
    "    \n",
    "    # store prediction's f1 score\n",
    "    \n",
    "    training_score =  f1_score(target_valid, predicted_valid)\n",
    "    ms_f1.append(training_score)\n",
    "\n",
    "    # print results\n",
    "    \n",
    "    print(\"min samples =\", depth, \": \\n\")\n",
    "\n",
    "    model_metrics(target_valid, predicted_valid)"
   ]
  },
  {
   "cell_type": "code",
   "execution_count": 70,
   "metadata": {},
   "outputs": [
    {
     "name": "stdout",
     "output_type": "stream",
     "text": [
      "Depth of F1 maximum: 25 \n",
      "Training set maximum: 0.6097297297297298\n"
     ]
    }
   ],
   "source": [
    "# find maximum accuracy\n",
    "\n",
    "print(\"Depth of F1 maximum:\", ms_f1.index(max(ms_f1))+1,\n",
    "      \"\\nTraining set maximum:\", max(ms_f1))"
   ]
  },
  {
   "cell_type": "code",
   "execution_count": 71,
   "metadata": {},
   "outputs": [
    {
     "data": {
      "image/png": "[encoded data removed]",
      "text/plain": [
       "<Figure size 432x288 with 1 Axes>"
      ]
     },
     "metadata": {
      "needs_background": "light"
     },
     "output_type": "display_data"
    }
   ],
   "source": [
    "plt.plot(ms_f1)\n",
    "\n",
    "# plot details\n",
    "\n",
    "plt.ylabel('F1')\n",
    "plt.xlabel('min samples')\n",
    "plt.title(\"Random Forest Accuracy\")\n",
    "plt.ylim(0,1)\n",
    "plt.grid()\n",
    "plt.show()"
   ]
  },
  {
   "cell_type": "markdown",
   "metadata": {},
   "source": [
    "While tuning the number of minimum samples does seem to have an effect on our model's overall F1 score, it is definitely not doing so in a major way. If anything, we see a steady decrease in the overall F1 score as we make our samples require more minimum values. While our F1 score is \"maximized\" at higher than the default (at 10 minimum samples to split), it is not in any sort of pattern and thus we will ignore this hyperparameter and continue with using a default.\n",
    "\n",
    "We will also try tuning our model's maximum depth."
   ]
  },
  {
   "cell_type": "code",
   "execution_count": 72,
   "metadata": {},
   "outputs": [
    {
     "name": "stdout",
     "output_type": "stream",
     "text": [
      "max depth = 1 : \n",
      "\n",
      "Accuracy: 0.199\n",
      "Recall: 1.0\n",
      "Precision: 0.199\n",
      "F1: 0.33194328607172646\n",
      "Confusion Matrix:\n",
      " [[   0 1602]\n",
      " [   0  398]]\n",
      "max depth = 2 : \n",
      "\n",
      "Accuracy: 0.201\n",
      "Recall: 1.0\n",
      "Precision: 0.19939879759519039\n",
      "F1: 0.3324979114452799\n",
      "Confusion Matrix:\n",
      " [[   4 1598]\n",
      " [   0  398]]\n",
      "max depth = 3 : \n",
      "\n",
      "Accuracy: 0.3705\n",
      "Recall: 0.9874371859296482\n",
      "Precision: 0.23861566484517305\n",
      "F1: 0.38435207823960876\n",
      "Confusion Matrix:\n",
      " [[ 348 1254]\n",
      " [   5  393]]\n",
      "max depth = 4 : \n",
      "\n",
      "Accuracy: 0.4045\n",
      "Recall: 0.9824120603015075\n",
      "Precision: 0.24825396825396825\n",
      "F1: 0.39635073492143946\n",
      "Confusion Matrix:\n",
      " [[ 418 1184]\n",
      " [   7  391]]\n",
      "max depth = 5 : \n",
      "\n",
      "Accuracy: 0.473\n",
      "Recall: 0.9723618090452262\n",
      "Precision: 0.27062937062937065\n",
      "F1: 0.4234135667396061\n",
      "Confusion Matrix:\n",
      " [[ 559 1043]\n",
      " [  11  387]]\n",
      "max depth = 6 : \n",
      "\n",
      "Accuracy: 0.551\n",
      "Recall: 0.964824120603015\n",
      "Precision: 0.3028391167192429\n",
      "F1: 0.46098439375750294\n",
      "Confusion Matrix:\n",
      " [[718 884]\n",
      " [ 14 384]]\n",
      "max depth = 7 : \n",
      "\n",
      "Accuracy: 0.5935\n",
      "Recall: 0.957286432160804\n",
      "Precision: 0.32370433305012747\n",
      "F1: 0.48380952380952386\n",
      "Confusion Matrix:\n",
      " [[806 796]\n",
      " [ 17 381]]\n",
      "max depth = 8 : \n",
      "\n",
      "Accuracy: 0.6545\n",
      "Recall: 0.907035175879397\n",
      "Precision: 0.3556650246305419\n",
      "F1: 0.5109695682944091\n",
      "Confusion Matrix:\n",
      " [[948 654]\n",
      " [ 37 361]]\n",
      "max depth = 9 : \n",
      "\n",
      "Accuracy: 0.6945\n",
      "Recall: 0.8768844221105527\n",
      "Precision: 0.38309549945115257\n",
      "F1: 0.5332314744079449\n",
      "Confusion Matrix:\n",
      " [[1040  562]\n",
      " [  49  349]]\n",
      "max depth = 10 : \n",
      "\n",
      "Accuracy: 0.7295\n",
      "Recall: 0.8442211055276382\n",
      "Precision: 0.41226993865030676\n",
      "F1: 0.5539983511953833\n",
      "Confusion Matrix:\n",
      " [[1123  479]\n",
      " [  62  336]]\n",
      "max depth = 11 : \n",
      "\n",
      "Accuracy: 0.7615\n",
      "Recall: 0.7814070351758794\n",
      "Precision: 0.44365192582025675\n",
      "F1: 0.5659690627843493\n",
      "Confusion Matrix:\n",
      " [[1212  390]\n",
      " [  87  311]]\n",
      "max depth = 12 : \n",
      "\n",
      "Accuracy: 0.795\n",
      "Recall: 0.7412060301507538\n",
      "Precision: 0.4900332225913621\n",
      "F1: 0.59\n",
      "Confusion Matrix:\n",
      " [[1295  307]\n",
      " [ 103  295]]\n",
      "max depth = 13 : \n",
      "\n",
      "Accuracy: 0.8075\n",
      "Recall: 0.7035175879396985\n",
      "Precision: 0.5118829981718465\n",
      "F1: 0.5925925925925927\n",
      "Confusion Matrix:\n",
      " [[1335  267]\n",
      " [ 118  280]]\n",
      "max depth = 14 : \n",
      "\n",
      "Accuracy: 0.828\n",
      "Recall: 0.635678391959799\n",
      "Precision: 0.5597345132743363\n",
      "F1: 0.5952941176470589\n",
      "Confusion Matrix:\n",
      " [[1403  199]\n",
      " [ 145  253]]\n",
      "max depth = 15 : \n",
      "\n",
      "Accuracy: 0.828\n",
      "Recall: 0.585427135678392\n",
      "Precision: 0.5655339805825242\n",
      "F1: 0.5753086419753087\n",
      "Confusion Matrix:\n",
      " [[1423  179]\n",
      " [ 165  233]]\n",
      "max depth = 16 : \n",
      "\n",
      "Accuracy: 0.835\n",
      "Recall: 0.5603015075376885\n",
      "Precision: 0.58994708994709\n",
      "F1: 0.5747422680412372\n",
      "Confusion Matrix:\n",
      " [[1447  155]\n",
      " [ 175  223]]\n",
      "max depth = 17 : \n",
      "\n",
      "Accuracy: 0.8445\n",
      "Recall: 0.5603015075376885\n",
      "Precision: 0.6211699164345403\n",
      "F1: 0.5891677675033025\n",
      "Confusion Matrix:\n",
      " [[1466  136]\n",
      " [ 175  223]]\n",
      "max depth = 18 : \n",
      "\n",
      "Accuracy: 0.843\n",
      "Recall: 0.5376884422110553\n",
      "Precision: 0.622093023255814\n",
      "F1: 0.5768194070080863\n",
      "Confusion Matrix:\n",
      " [[1472  130]\n",
      " [ 184  214]]\n",
      "max depth = 19 : \n",
      "\n",
      "Accuracy: 0.8465\n",
      "Recall: 0.5376884422110553\n",
      "Precision: 0.6350148367952523\n",
      "F1: 0.582312925170068\n",
      "Confusion Matrix:\n",
      " [[1479  123]\n",
      " [ 184  214]]\n",
      "max depth = 20 : \n",
      "\n",
      "Accuracy: 0.8455\n",
      "Recall: 0.5100502512562815\n",
      "Precision: 0.6403785488958991\n",
      "F1: 0.5678321678321678\n",
      "Confusion Matrix:\n",
      " [[1488  114]\n",
      " [ 195  203]]\n",
      "max depth = 21 : \n",
      "\n",
      "Accuracy: 0.846\n",
      "Recall: 0.5125628140703518\n",
      "Precision: 0.6415094339622641\n",
      "F1: 0.5698324022346367\n",
      "Confusion Matrix:\n",
      " [[1488  114]\n",
      " [ 194  204]]\n",
      "max depth = 22 : \n",
      "\n",
      "Accuracy: 0.851\n",
      "Recall: 0.5276381909547738\n",
      "Precision: 0.65625\n",
      "F1: 0.5849582172701949\n",
      "Confusion Matrix:\n",
      " [[1492  110]\n",
      " [ 188  210]]\n",
      "max depth = 23 : \n",
      "\n",
      "Accuracy: 0.848\n",
      "Recall: 0.5201005025125628\n",
      "Precision: 0.646875\n",
      "F1: 0.5766016713091922\n",
      "Confusion Matrix:\n",
      " [[1489  113]\n",
      " [ 191  207]]\n",
      "max depth = 24 : \n",
      "\n",
      "Accuracy: 0.8485\n",
      "Recall: 0.5100502512562815\n",
      "Precision: 0.6527331189710611\n",
      "F1: 0.5726375176304654\n",
      "Confusion Matrix:\n",
      " [[1494  108]\n",
      " [ 195  203]]\n",
      "max depth = 25 : \n",
      "\n",
      "Accuracy: 0.851\n",
      "Recall: 0.5150753768844221\n",
      "Precision: 0.6612903225806451\n",
      "F1: 0.5790960451977399\n",
      "Confusion Matrix:\n",
      " [[1497  105]\n",
      " [ 193  205]]\n",
      "max depth = 26 : \n",
      "\n",
      "Accuracy: 0.8515\n",
      "Recall: 0.5100502512562815\n",
      "Precision: 0.6655737704918033\n",
      "F1: 0.5775248933143671\n",
      "Confusion Matrix:\n",
      " [[1500  102]\n",
      " [ 195  203]]\n",
      "max depth = 27 : \n",
      "\n",
      "Accuracy: 0.8525\n",
      "Recall: 0.5150753768844221\n",
      "Precision: 0.6677524429967426\n",
      "F1: 0.5815602836879432\n",
      "Confusion Matrix:\n",
      " [[1500  102]\n",
      " [ 193  205]]\n",
      "max depth = 28 : \n",
      "\n",
      "Accuracy: 0.85\n",
      "Recall: 0.5125628140703518\n",
      "Precision: 0.6580645161290323\n",
      "F1: 0.576271186440678\n",
      "Confusion Matrix:\n",
      " [[1496  106]\n",
      " [ 194  204]]\n",
      "max depth = 29 : \n",
      "\n",
      "Accuracy: 0.85\n",
      "Recall: 0.5150753768844221\n",
      "Precision: 0.657051282051282\n",
      "F1: 0.5774647887323943\n",
      "Confusion Matrix:\n",
      " [[1495  107]\n",
      " [ 193  205]]\n",
      "max depth = 30 : \n",
      "\n",
      "Accuracy: 0.8515\n",
      "Recall: 0.5150753768844221\n",
      "Precision: 0.6634304207119741\n",
      "F1: 0.5799151343705798\n",
      "Confusion Matrix:\n",
      " [[1498  104]\n",
      " [ 193  205]]\n",
      "max depth = 31 : \n",
      "\n",
      "Accuracy: 0.8515\n",
      "Recall: 0.5150753768844221\n",
      "Precision: 0.6634304207119741\n",
      "F1: 0.5799151343705798\n",
      "Confusion Matrix:\n",
      " [[1498  104]\n",
      " [ 193  205]]\n",
      "max depth = 32 : \n",
      "\n",
      "Accuracy: 0.8515\n",
      "Recall: 0.5150753768844221\n",
      "Precision: 0.6634304207119741\n",
      "F1: 0.5799151343705798\n",
      "Confusion Matrix:\n",
      " [[1498  104]\n",
      " [ 193  205]]\n",
      "max depth = 33 : \n",
      "\n",
      "Accuracy: 0.8515\n",
      "Recall: 0.5150753768844221\n",
      "Precision: 0.6634304207119741\n",
      "F1: 0.5799151343705798\n",
      "Confusion Matrix:\n",
      " [[1498  104]\n",
      " [ 193  205]]\n",
      "max depth = 34 : \n",
      "\n",
      "Accuracy: 0.8515\n",
      "Recall: 0.5150753768844221\n",
      "Precision: 0.6634304207119741\n",
      "F1: 0.5799151343705798\n",
      "Confusion Matrix:\n",
      " [[1498  104]\n",
      " [ 193  205]]\n",
      "max depth = 35 : \n",
      "\n",
      "Accuracy: 0.8515\n",
      "Recall: 0.5150753768844221\n",
      "Precision: 0.6634304207119741\n",
      "F1: 0.5799151343705798\n",
      "Confusion Matrix:\n",
      " [[1498  104]\n",
      " [ 193  205]]\n",
      "max depth = 36 : \n",
      "\n",
      "Accuracy: 0.8515\n",
      "Recall: 0.5150753768844221\n",
      "Precision: 0.6634304207119741\n",
      "F1: 0.5799151343705798\n",
      "Confusion Matrix:\n",
      " [[1498  104]\n",
      " [ 193  205]]\n",
      "max depth = 37 : \n",
      "\n",
      "Accuracy: 0.8515\n",
      "Recall: 0.5150753768844221\n",
      "Precision: 0.6634304207119741\n",
      "F1: 0.5799151343705798\n",
      "Confusion Matrix:\n",
      " [[1498  104]\n",
      " [ 193  205]]\n",
      "max depth = 38 : \n",
      "\n",
      "Accuracy: 0.8515\n",
      "Recall: 0.5150753768844221\n",
      "Precision: 0.6634304207119741\n",
      "F1: 0.5799151343705798\n",
      "Confusion Matrix:\n",
      " [[1498  104]\n",
      " [ 193  205]]\n",
      "max depth = 39 : \n",
      "\n",
      "Accuracy: 0.8515\n",
      "Recall: 0.5150753768844221\n",
      "Precision: 0.6634304207119741\n",
      "F1: 0.5799151343705798\n",
      "Confusion Matrix:\n",
      " [[1498  104]\n",
      " [ 193  205]]\n",
      "max depth = 40 : \n",
      "\n",
      "Accuracy: 0.8515\n",
      "Recall: 0.5150753768844221\n",
      "Precision: 0.6634304207119741\n",
      "F1: 0.5799151343705798\n",
      "Confusion Matrix:\n",
      " [[1498  104]\n",
      " [ 193  205]]\n",
      "max depth = 41 : \n",
      "\n",
      "Accuracy: 0.8515\n",
      "Recall: 0.5150753768844221\n",
      "Precision: 0.6634304207119741\n",
      "F1: 0.5799151343705798\n",
      "Confusion Matrix:\n",
      " [[1498  104]\n",
      " [ 193  205]]\n",
      "max depth = 42 : \n",
      "\n",
      "Accuracy: 0.8515\n",
      "Recall: 0.5150753768844221\n",
      "Precision: 0.6634304207119741\n",
      "F1: 0.5799151343705798\n",
      "Confusion Matrix:\n",
      " [[1498  104]\n",
      " [ 193  205]]\n",
      "max depth = 43 : \n",
      "\n",
      "Accuracy: 0.8515\n",
      "Recall: 0.5150753768844221\n",
      "Precision: 0.6634304207119741\n",
      "F1: 0.5799151343705798\n",
      "Confusion Matrix:\n",
      " [[1498  104]\n",
      " [ 193  205]]\n",
      "max depth = 44 : \n",
      "\n",
      "Accuracy: 0.8515\n",
      "Recall: 0.5150753768844221\n",
      "Precision: 0.6634304207119741\n",
      "F1: 0.5799151343705798\n",
      "Confusion Matrix:\n",
      " [[1498  104]\n",
      " [ 193  205]]\n",
      "max depth = 45 : \n",
      "\n",
      "Accuracy: 0.8515\n",
      "Recall: 0.5150753768844221\n",
      "Precision: 0.6634304207119741\n",
      "F1: 0.5799151343705798\n",
      "Confusion Matrix:\n",
      " [[1498  104]\n",
      " [ 193  205]]\n",
      "max depth = 46 : \n",
      "\n",
      "Accuracy: 0.8515\n",
      "Recall: 0.5150753768844221\n",
      "Precision: 0.6634304207119741\n",
      "F1: 0.5799151343705798\n",
      "Confusion Matrix:\n",
      " [[1498  104]\n",
      " [ 193  205]]\n",
      "max depth = 47 : \n",
      "\n",
      "Accuracy: 0.8515\n",
      "Recall: 0.5150753768844221\n",
      "Precision: 0.6634304207119741\n",
      "F1: 0.5799151343705798\n",
      "Confusion Matrix:\n",
      " [[1498  104]\n",
      " [ 193  205]]\n",
      "max depth = 48 : \n",
      "\n",
      "Accuracy: 0.8515\n",
      "Recall: 0.5150753768844221\n",
      "Precision: 0.6634304207119741\n",
      "F1: 0.5799151343705798\n",
      "Confusion Matrix:\n",
      " [[1498  104]\n",
      " [ 193  205]]\n",
      "max depth = 49 : \n",
      "\n",
      "Accuracy: 0.8515\n",
      "Recall: 0.5150753768844221\n",
      "Precision: 0.6634304207119741\n",
      "F1: 0.5799151343705798\n",
      "Confusion Matrix:\n",
      " [[1498  104]\n",
      " [ 193  205]]\n",
      "max depth = 50 : \n",
      "\n",
      "Accuracy: 0.8515\n",
      "Recall: 0.5150753768844221\n",
      "Precision: 0.6634304207119741\n",
      "F1: 0.5799151343705798\n",
      "Confusion Matrix:\n",
      " [[1498  104]\n",
      " [ 193  205]]\n"
     ]
    }
   ],
   "source": [
    "# create lists to store our values\n",
    "\n",
    "md_f1 = []\n",
    "\n",
    "# create a loop\n",
    "\n",
    "for depth in range(1,51):\n",
    "    # create model\n",
    "    \n",
    "    depth_model = RandomForestClassifier(random_state=12345, max_depth=depth)\n",
    "    depth_model.fit(features_upsampled, target_upsampled)\n",
    "    \n",
    "    # predict value\n",
    "    \n",
    "    predicted_valid = depth_model.predict(features_valid)\n",
    "    \n",
    "    # store prediction's f1 score\n",
    "    \n",
    "    training_score =  f1_score(target_valid, predicted_valid)\n",
    "    md_f1.append(training_score)\n",
    "\n",
    "    # print results\n",
    "    \n",
    "    print(\"max depth =\", depth, \": \\n\")\n",
    "\n",
    "    model_metrics(target_valid, predicted_valid)"
   ]
  },
  {
   "cell_type": "code",
   "execution_count": 73,
   "metadata": {},
   "outputs": [
    {
     "name": "stdout",
     "output_type": "stream",
     "text": [
      "Depth of F1 maximum: 14 \n",
      "Training set maximum: 0.5952941176470589\n"
     ]
    }
   ],
   "source": [
    "# find maximum accuracy\n",
    "\n",
    "print(\"Depth of F1 maximum:\", md_f1.index(max(md_f1))+1,\n",
    "      \"\\nTraining set maximum:\", max(md_f1))"
   ]
  },
  {
   "cell_type": "code",
   "execution_count": 74,
   "metadata": {},
   "outputs": [
    {
     "data": {
      "image/png": "[encoded data removed]",
      "text/plain": [
       "<Figure size 432x288 with 1 Axes>"
      ]
     },
     "metadata": {
      "needs_background": "light"
     },
     "output_type": "display_data"
    }
   ],
   "source": [
    "plt.plot(md_f1)\n",
    "\n",
    "# plot details\n",
    "\n",
    "plt.ylabel('F1')\n",
    "plt.xlabel('max depth')\n",
    "plt.title(\"Random Forest Accuracy\")\n",
    "plt.ylim(0,1)\n",
    "plt.grid()\n",
    "plt.show()"
   ]
  },
  {
   "cell_type": "markdown",
   "metadata": {},
   "source": [
    "This maximum depth modification model is not providing improvement, even as it approaches its peak. We will not pursue it, here. We will try a minimum samples leaf."
   ]
  },
  {
   "cell_type": "code",
   "execution_count": 75,
   "metadata": {},
   "outputs": [
    {
     "name": "stdout",
     "output_type": "stream",
     "text": [
      "min samples leaf = 1 : \n",
      "\n",
      "Accuracy: 0.8515\n",
      "Recall: 0.5150753768844221\n",
      "Precision: 0.6634304207119741\n",
      "F1: 0.5799151343705798\n",
      "Confusion Matrix:\n",
      " [[1498  104]\n",
      " [ 193  205]]\n",
      "min samples leaf = 2 : \n",
      "\n",
      "Accuracy: 0.837\n",
      "Recall: 0.6030150753768844\n",
      "Precision: 0.5882352941176471\n",
      "F1: 0.5955334987593052\n",
      "Confusion Matrix:\n",
      " [[1434  168]\n",
      " [ 158  240]]\n",
      "min samples leaf = 3 : \n",
      "\n",
      "Accuracy: 0.828\n",
      "Recall: 0.6608040201005025\n",
      "Precision: 0.5572033898305084\n",
      "F1: 0.6045977011494252\n",
      "Confusion Matrix:\n",
      " [[1393  209]\n",
      " [ 135  263]]\n",
      "min samples leaf = 4 : \n",
      "\n",
      "Accuracy: 0.816\n",
      "Recall: 0.6984924623115578\n",
      "Precision: 0.5285171102661597\n",
      "F1: 0.6017316017316017\n",
      "Confusion Matrix:\n",
      " [[1354  248]\n",
      " [ 120  278]]\n",
      "min samples leaf = 5 : \n",
      "\n",
      "Accuracy: 0.8145\n",
      "Recall: 0.7638190954773869\n",
      "Precision: 0.5232358003442341\n",
      "F1: 0.6210418794688458\n",
      "Confusion Matrix:\n",
      " [[1325  277]\n",
      " [  94  304]]\n",
      "min samples leaf = 6 : \n",
      "\n",
      "Accuracy: 0.794\n",
      "Recall: 0.7587939698492462\n",
      "Precision: 0.4886731391585761\n",
      "F1: 0.594488188976378\n",
      "Confusion Matrix:\n",
      " [[1286  316]\n",
      " [  96  302]]\n",
      "min samples leaf = 7 : \n",
      "\n",
      "Accuracy: 0.7855\n",
      "Recall: 0.7889447236180904\n",
      "Precision: 0.4764795144157815\n",
      "F1: 0.5941343424787133\n",
      "Confusion Matrix:\n",
      " [[1257  345]\n",
      " [  84  314]]\n",
      "min samples leaf = 8 : \n",
      "\n",
      "Accuracy: 0.7715\n",
      "Recall: 0.8040201005025126\n",
      "Precision: 0.45779685264663805\n",
      "F1: 0.5834092980856882\n",
      "Confusion Matrix:\n",
      " [[1223  379]\n",
      " [  78  320]]\n",
      "min samples leaf = 9 : \n",
      "\n",
      "Accuracy: 0.758\n",
      "Recall: 0.8266331658291457\n",
      "Precision: 0.4422043010752688\n",
      "F1: 0.5761821366024519\n",
      "Confusion Matrix:\n",
      " [[1187  415]\n",
      " [  69  329]]\n",
      "min samples leaf = 10 : \n",
      "\n",
      "Accuracy: 0.746\n",
      "Recall: 0.8316582914572864\n",
      "Precision: 0.42875647668393785\n",
      "F1: 0.5658119658119658\n",
      "Confusion Matrix:\n",
      " [[1161  441]\n",
      " [  67  331]]\n",
      "min samples leaf = 11 : \n",
      "\n",
      "Accuracy: 0.744\n",
      "Recall: 0.8366834170854272\n",
      "Precision: 0.4269230769230769\n",
      "F1: 0.565365025466893\n",
      "Confusion Matrix:\n",
      " [[1155  447]\n",
      " [  65  333]]\n",
      "min samples leaf = 12 : \n",
      "\n",
      "Accuracy: 0.7295\n",
      "Recall: 0.8517587939698492\n",
      "Precision: 0.41291108404384896\n",
      "F1: 0.5561936013125512\n",
      "Confusion Matrix:\n",
      " [[1120  482]\n",
      " [  59  339]]\n",
      "min samples leaf = 13 : \n",
      "\n",
      "Accuracy: 0.7285\n",
      "Recall: 0.8542713567839196\n",
      "Precision: 0.4121212121212121\n",
      "F1: 0.5560098119378577\n",
      "Confusion Matrix:\n",
      " [[1117  485]\n",
      " [  58  340]]\n",
      "min samples leaf = 14 : \n",
      "\n",
      "Accuracy: 0.7265\n",
      "Recall: 0.8592964824120602\n",
      "Precision: 0.4105642256902761\n",
      "F1: 0.5556458164094232\n",
      "Confusion Matrix:\n",
      " [[1111  491]\n",
      " [  56  342]]\n",
      "min samples leaf = 15 : \n",
      "\n",
      "Accuracy: 0.717\n",
      "Recall: 0.864321608040201\n",
      "Precision: 0.40186915887850466\n",
      "F1: 0.5486443381180224\n",
      "Confusion Matrix:\n",
      " [[1090  512]\n",
      " [  54  344]]\n",
      "min samples leaf = 16 : \n",
      "\n",
      "Accuracy: 0.7115\n",
      "Recall: 0.871859296482412\n",
      "Precision: 0.3974799541809851\n",
      "F1: 0.5460267505900864\n",
      "Confusion Matrix:\n",
      " [[1076  526]\n",
      " [  51  347]]\n",
      "min samples leaf = 17 : \n",
      "\n",
      "Accuracy: 0.7045\n",
      "Recall: 0.8793969849246231\n",
      "Precision: 0.3919372900335946\n",
      "F1: 0.5422153369481023\n",
      "Confusion Matrix:\n",
      " [[1059  543]\n",
      " [  48  350]]\n",
      "min samples leaf = 18 : \n",
      "\n",
      "Accuracy: 0.6965\n",
      "Recall: 0.8743718592964824\n",
      "Precision: 0.38453038674033146\n",
      "F1: 0.5341519570222563\n",
      "Confusion Matrix:\n",
      " [[1045  557]\n",
      " [  50  348]]\n",
      "min samples leaf = 19 : \n",
      "\n",
      "Accuracy: 0.693\n",
      "Recall: 0.8869346733668342\n",
      "Precision: 0.38286334056399135\n",
      "F1: 0.5348484848484848\n",
      "Confusion Matrix:\n",
      " [[1033  569]\n",
      " [  45  353]]\n",
      "min samples leaf = 20 : \n",
      "\n",
      "Accuracy: 0.6865\n",
      "Recall: 0.8969849246231156\n",
      "Precision: 0.37857900318133614\n",
      "F1: 0.5324384787472036\n",
      "Confusion Matrix:\n",
      " [[1016  586]\n",
      " [  41  357]]\n",
      "min samples leaf = 21 : \n",
      "\n",
      "Accuracy: 0.6845\n",
      "Recall: 0.8869346733668342\n",
      "Precision: 0.3759318423855165\n",
      "F1: 0.5280478683620046\n",
      "Confusion Matrix:\n",
      " [[1016  586]\n",
      " [  45  353]]\n",
      "min samples leaf = 22 : \n",
      "\n",
      "Accuracy: 0.678\n",
      "Recall: 0.8894472361809045\n",
      "Precision: 0.3710691823899371\n",
      "F1: 0.5236686390532544\n",
      "Confusion Matrix:\n",
      " [[1002  600]\n",
      " [  44  354]]\n",
      "min samples leaf = 23 : \n",
      "\n",
      "Accuracy: 0.676\n",
      "Recall: 0.8894472361809045\n",
      "Precision: 0.3695198329853862\n",
      "F1: 0.5221238938053098\n",
      "Confusion Matrix:\n",
      " [[998 604]\n",
      " [ 44 354]]\n",
      "min samples leaf = 24 : \n",
      "\n",
      "Accuracy: 0.6725\n",
      "Recall: 0.9020100502512562\n",
      "Precision: 0.3682051282051282\n",
      "F1: 0.5229424617625638\n",
      "Confusion Matrix:\n",
      " [[986 616]\n",
      " [ 39 359]]\n",
      "min samples leaf = 25 : \n",
      "\n",
      "Accuracy: 0.661\n",
      "Recall: 0.9020100502512562\n",
      "Precision: 0.35971943887775554\n",
      "F1: 0.5143266475644699\n",
      "Confusion Matrix:\n",
      " [[963 639]\n",
      " [ 39 359]]\n",
      "min samples leaf = 26 : \n",
      "\n",
      "Accuracy: 0.6665\n",
      "Recall: 0.9095477386934674\n",
      "Precision: 0.364551863041289\n",
      "F1: 0.5204888569374551\n",
      "Confusion Matrix:\n",
      " [[971 631]\n",
      " [ 36 362]]\n",
      "min samples leaf = 27 : \n",
      "\n",
      "Accuracy: 0.66\n",
      "Recall: 0.9045226130653267\n",
      "Precision: 0.3592814371257485\n",
      "F1: 0.5142857142857143\n",
      "Confusion Matrix:\n",
      " [[960 642]\n",
      " [ 38 360]]\n",
      "min samples leaf = 28 : \n",
      "\n",
      "Accuracy: 0.657\n",
      "Recall: 0.8919597989949749\n",
      "Precision: 0.3557114228456914\n",
      "F1: 0.5085959885386819\n",
      "Confusion Matrix:\n",
      " [[959 643]\n",
      " [ 43 355]]\n",
      "min samples leaf = 29 : \n",
      "\n",
      "Accuracy: 0.657\n",
      "Recall: 0.907035175879397\n",
      "Precision: 0.3574257425742574\n",
      "F1: 0.5127840909090908\n",
      "Confusion Matrix:\n",
      " [[953 649]\n",
      " [ 37 361]]\n",
      "min samples leaf = 30 : \n",
      "\n",
      "Accuracy: 0.6545\n",
      "Recall: 0.9120603015075377\n",
      "Precision: 0.3562315996074583\n",
      "F1: 0.5123500352858151\n",
      "Confusion Matrix:\n",
      " [[946 656]\n",
      " [ 35 363]]\n",
      "min samples leaf = 31 : \n",
      "\n",
      "Accuracy: 0.6525\n",
      "Recall: 0.9120603015075377\n",
      "Precision: 0.3548387096774194\n",
      "F1: 0.5109078114004223\n",
      "Confusion Matrix:\n",
      " [[942 660]\n",
      " [ 35 363]]\n",
      "min samples leaf = 32 : \n",
      "\n",
      "Accuracy: 0.6505\n",
      "Recall: 0.9170854271356784\n",
      "Precision: 0.35402521823472355\n",
      "F1: 0.5108467459762072\n",
      "Confusion Matrix:\n",
      " [[936 666]\n",
      " [ 33 365]]\n",
      "min samples leaf = 33 : \n",
      "\n",
      "Accuracy: 0.651\n",
      "Recall: 0.9195979899497487\n",
      "Precision: 0.3546511627906977\n",
      "F1: 0.5118881118881119\n",
      "Confusion Matrix:\n",
      " [[936 666]\n",
      " [ 32 366]]\n",
      "min samples leaf = 34 : \n",
      "\n",
      "Accuracy: 0.6425\n",
      "Recall: 0.9170854271356784\n",
      "Precision: 0.34861509073543456\n",
      "F1: 0.5051903114186852\n",
      "Confusion Matrix:\n",
      " [[920 682]\n",
      " [ 33 365]]\n",
      "min samples leaf = 35 : \n",
      "\n",
      "Accuracy: 0.6375\n",
      "Recall: 0.9195979899497487\n",
      "Precision: 0.34560906515580736\n",
      "F1: 0.5024021962937543\n",
      "Confusion Matrix:\n",
      " [[909 693]\n",
      " [ 32 366]]\n",
      "min samples leaf = 36 : \n",
      "\n",
      "Accuracy: 0.632\n",
      "Recall: 0.9221105527638191\n",
      "Precision: 0.3423507462686567\n",
      "F1: 0.4993197278911564\n",
      "Confusion Matrix:\n",
      " [[897 705]\n",
      " [ 31 367]]\n",
      "min samples leaf = 37 : \n",
      "\n",
      "Accuracy: 0.637\n",
      "Recall: 0.914572864321608\n",
      "Precision: 0.3446969696969697\n",
      "F1: 0.500687757909216\n",
      "Confusion Matrix:\n",
      " [[910 692]\n",
      " [ 34 364]]\n",
      "min samples leaf = 38 : \n",
      "\n",
      "Accuracy: 0.6365\n",
      "Recall: 0.9195979899497487\n",
      "Precision: 0.3449575871819039\n",
      "F1: 0.5017135023989033\n",
      "Confusion Matrix:\n",
      " [[907 695]\n",
      " [ 32 366]]\n",
      "min samples leaf = 39 : \n",
      "\n",
      "Accuracy: 0.629\n",
      "Recall: 0.9195979899497487\n",
      "Precision: 0.34014869888475835\n",
      "F1: 0.49660786974219806\n",
      "Confusion Matrix:\n",
      " [[892 710]\n",
      " [ 32 366]]\n",
      "min samples leaf = 40 : \n",
      "\n",
      "Accuracy: 0.632\n",
      "Recall: 0.9221105527638191\n",
      "Precision: 0.3423507462686567\n",
      "F1: 0.4993197278911564\n",
      "Confusion Matrix:\n",
      " [[897 705]\n",
      " [ 31 367]]\n",
      "min samples leaf = 41 : \n",
      "\n",
      "Accuracy: 0.6285\n",
      "Recall: 0.9221105527638191\n",
      "Precision: 0.340129749768304\n",
      "F1: 0.4969532836831415\n",
      "Confusion Matrix:\n",
      " [[890 712]\n",
      " [ 31 367]]\n",
      "min samples leaf = 42 : \n",
      "\n",
      "Accuracy: 0.622\n",
      "Recall: 0.9170854271356784\n",
      "Precision: 0.33547794117647056\n",
      "F1: 0.49125168236877514\n",
      "Confusion Matrix:\n",
      " [[879 723]\n",
      " [ 33 365]]\n",
      "min samples leaf = 43 : \n",
      "\n",
      "Accuracy: 0.6175\n",
      "Recall: 0.9246231155778895\n",
      "Precision: 0.33363553943789664\n",
      "F1: 0.49033977348434377\n",
      "Confusion Matrix:\n",
      " [[867 735]\n",
      " [ 30 368]]\n",
      "min samples leaf = 44 : \n",
      "\n",
      "Accuracy: 0.619\n",
      "Recall: 0.9296482412060302\n",
      "Precision: 0.3351449275362319\n",
      "F1: 0.492676431424767\n",
      "Confusion Matrix:\n",
      " [[868 734]\n",
      " [ 28 370]]\n",
      "min samples leaf = 45 : \n",
      "\n",
      "Accuracy: 0.6205\n",
      "Recall: 0.9371859296482412\n",
      "Precision: 0.3369467028003613\n",
      "F1: 0.49568106312292354\n",
      "Confusion Matrix:\n",
      " [[868 734]\n",
      " [ 25 373]]\n",
      "min samples leaf = 46 : \n",
      "\n",
      "Accuracy: 0.6155\n",
      "Recall: 0.9246231155778895\n",
      "Precision: 0.3324299909665763\n",
      "F1: 0.48903654485049836\n",
      "Confusion Matrix:\n",
      " [[863 739]\n",
      " [ 30 368]]\n",
      "min samples leaf = 47 : \n",
      "\n",
      "Accuracy: 0.6105\n",
      "Recall: 0.9296482412060302\n",
      "Precision: 0.33006244424620873\n",
      "F1: 0.4871626069782752\n",
      "Confusion Matrix:\n",
      " [[851 751]\n",
      " [ 28 370]]\n",
      "min samples leaf = 48 : \n",
      "\n",
      "Accuracy: 0.6125\n",
      "Recall: 0.9271356783919598\n",
      "Precision: 0.3309417040358744\n",
      "F1: 0.4877726371447455\n",
      "Confusion Matrix:\n",
      " [[856 746]\n",
      " [ 29 369]]\n",
      "min samples leaf = 49 : \n",
      "\n",
      "Accuracy: 0.615\n",
      "Recall: 0.9346733668341709\n",
      "Precision: 0.3333333333333333\n",
      "F1: 0.49141347424042275\n",
      "Confusion Matrix:\n",
      " [[858 744]\n",
      " [ 26 372]]\n",
      "min samples leaf = 50 : \n",
      "\n",
      "Accuracy: 0.612\n",
      "Recall: 0.9271356783919598\n",
      "Precision: 0.33064516129032256\n",
      "F1: 0.48745046235138706\n",
      "Confusion Matrix:\n",
      " [[855 747]\n",
      " [ 29 369]]\n",
      "min samples leaf = 51 : \n",
      "\n",
      "Accuracy: 0.611\n",
      "Recall: 0.9396984924623115\n",
      "Precision: 0.33156028368794327\n",
      "F1: 0.490170380078637\n",
      "Confusion Matrix:\n",
      " [[848 754]\n",
      " [ 24 374]]\n",
      "min samples leaf = 52 : \n",
      "\n",
      "Accuracy: 0.6065\n",
      "Recall: 0.9371859296482412\n",
      "Precision: 0.32863436123348017\n",
      "F1: 0.4866275277234181\n",
      "Confusion Matrix:\n",
      " [[840 762]\n",
      " [ 25 373]]\n",
      "min samples leaf = 53 : \n",
      "\n",
      "Accuracy: 0.613\n",
      "Recall: 0.9346733668341709\n",
      "Precision: 0.33214285714285713\n",
      "F1: 0.4901185770750988\n",
      "Confusion Matrix:\n",
      " [[854 748]\n",
      " [ 26 372]]\n",
      "min samples leaf = 54 : \n",
      "\n",
      "Accuracy: 0.609\n",
      "Recall: 0.9346733668341709\n",
      "Precision: 0.32978723404255317\n",
      "F1: 0.4875491480996068\n",
      "Confusion Matrix:\n",
      " [[846 756]\n",
      " [ 26 372]]\n",
      "min samples leaf = 55 : \n",
      "\n",
      "Accuracy: 0.61\n",
      "Recall: 0.9371859296482412\n",
      "Precision: 0.33067375886524825\n",
      "F1: 0.4888597640891219\n",
      "Confusion Matrix:\n",
      " [[847 755]\n",
      " [ 25 373]]\n",
      "min samples leaf = 56 : \n",
      "\n",
      "Accuracy: 0.611\n",
      "Recall: 0.9321608040201005\n",
      "Precision: 0.3306595365418895\n",
      "F1: 0.4881578947368421\n",
      "Confusion Matrix:\n",
      " [[851 751]\n",
      " [ 27 371]]\n",
      "min samples leaf = 57 : \n",
      "\n",
      "Accuracy: 0.6055\n",
      "Recall: 0.9296482412060302\n",
      "Precision: 0.3271441202475685\n",
      "F1: 0.48397645519947674\n",
      "Confusion Matrix:\n",
      " [[841 761]\n",
      " [ 28 370]]\n",
      "min samples leaf = 58 : \n",
      "\n",
      "Accuracy: 0.6025\n",
      "Recall: 0.9296482412060302\n",
      "Precision: 0.3254177660510114\n",
      "F1: 0.48208469055374586\n",
      "Confusion Matrix:\n",
      " [[835 767]\n",
      " [ 28 370]]\n",
      "min samples leaf = 59 : \n",
      "\n",
      "Accuracy: 0.5985\n",
      "Recall: 0.9371859296482412\n",
      "Precision: 0.32406602953953084\n",
      "F1: 0.4816010329244674\n",
      "Confusion Matrix:\n",
      " [[824 778]\n",
      " [ 25 373]]\n",
      "min samples leaf = 60 : \n",
      "\n",
      "Accuracy: 0.6025\n",
      "Recall: 0.9371859296482412\n",
      "Precision: 0.326334208223972\n",
      "F1: 0.4841012329656068\n",
      "Confusion Matrix:\n",
      " [[832 770]\n",
      " [ 25 373]]\n",
      "min samples leaf = 61 : \n",
      "\n",
      "Accuracy: 0.5985\n",
      "Recall: 0.9371859296482412\n",
      "Precision: 0.32406602953953084\n",
      "F1: 0.4816010329244674\n",
      "Confusion Matrix:\n",
      " [[824 778]\n",
      " [ 25 373]]\n",
      "min samples leaf = 62 : \n",
      "\n",
      "Accuracy: 0.595\n",
      "Recall: 0.9296482412060302\n",
      "Precision: 0.3211805555555556\n",
      "F1: 0.4774193548387097\n",
      "Confusion Matrix:\n",
      " [[820 782]\n",
      " [ 28 370]]\n",
      "min samples leaf = 63 : \n",
      "\n",
      "Accuracy: 0.5955\n",
      "Recall: 0.9447236180904522\n",
      "Precision: 0.3233018056749785\n",
      "F1: 0.4817424727738629\n",
      "Confusion Matrix:\n",
      " [[815 787]\n",
      " [ 22 376]]\n",
      "min samples leaf = 64 : \n",
      "\n",
      "Accuracy: 0.589\n",
      "Recall: 0.9422110552763819\n",
      "Precision: 0.3194207836456559\n",
      "F1: 0.47709923664122145\n",
      "Confusion Matrix:\n",
      " [[803 799]\n",
      " [ 23 375]]\n",
      "min samples leaf = 65 : \n",
      "\n",
      "Accuracy: 0.593\n",
      "Recall: 0.949748743718593\n",
      "Precision: 0.3225255972696246\n",
      "F1: 0.4815286624203822\n",
      "Confusion Matrix:\n",
      " [[808 794]\n",
      " [ 20 378]]\n",
      "min samples leaf = 66 : \n",
      "\n",
      "Accuracy: 0.593\n",
      "Recall: 0.9447236180904522\n",
      "Precision: 0.3219178082191781\n",
      "F1: 0.48020434227330777\n",
      "Confusion Matrix:\n",
      " [[810 792]\n",
      " [ 22 376]]\n",
      "min samples leaf = 67 : \n",
      "\n",
      "Accuracy: 0.5915\n",
      "Recall: 0.9447236180904522\n",
      "Precision: 0.3210930828351836\n",
      "F1: 0.4792861695347355\n",
      "Confusion Matrix:\n",
      " [[807 795]\n",
      " [ 22 376]]\n",
      "min samples leaf = 68 : \n",
      "\n",
      "Accuracy: 0.59\n",
      "Recall: 0.9396984924623115\n",
      "Precision: 0.31965811965811963\n",
      "F1: 0.47704081632653056\n",
      "Confusion Matrix:\n",
      " [[806 796]\n",
      " [ 24 374]]\n",
      "min samples leaf = 69 : \n",
      "\n",
      "Accuracy: 0.586\n",
      "Recall: 0.9396984924623115\n",
      "Precision: 0.3174872665534805\n",
      "F1: 0.47461928934010156\n",
      "Confusion Matrix:\n",
      " [[798 804]\n",
      " [ 24 374]]\n",
      "min samples leaf = 70 : \n",
      "\n",
      "Accuracy: 0.58\n",
      "Recall: 0.9371859296482412\n",
      "Precision: 0.31397306397306396\n",
      "F1: 0.4703656998738966\n",
      "Confusion Matrix:\n",
      " [[787 815]\n",
      " [ 25 373]]\n",
      "min samples leaf = 71 : \n",
      "\n",
      "Accuracy: 0.591\n",
      "Recall: 0.9447236180904522\n",
      "Precision: 0.32081911262798635\n",
      "F1: 0.4789808917197452\n",
      "Confusion Matrix:\n",
      " [[806 796]\n",
      " [ 22 376]]\n",
      "min samples leaf = 72 : \n",
      "\n",
      "Accuracy: 0.6\n",
      "Recall: 0.9447236180904522\n",
      "Precision: 0.32582322357019067\n",
      "F1: 0.48453608247422686\n",
      "Confusion Matrix:\n",
      " [[824 778]\n",
      " [ 22 376]]\n",
      "min samples leaf = 73 : \n",
      "\n",
      "Accuracy: 0.595\n",
      "Recall: 0.9472361809045227\n",
      "Precision: 0.32332761578044594\n",
      "F1: 0.48209718670076723\n",
      "Confusion Matrix:\n",
      " [[813 789]\n",
      " [ 21 377]]\n",
      "min samples leaf = 74 : \n",
      "\n",
      "Accuracy: 0.5895\n",
      "Recall: 0.9447236180904522\n",
      "Precision: 0.32\n",
      "F1: 0.47806738715829633\n",
      "Confusion Matrix:\n",
      " [[803 799]\n",
      " [ 22 376]]\n",
      "min samples leaf = 75 : \n",
      "\n",
      "Accuracy: 0.585\n",
      "Recall: 0.9472361809045227\n",
      "Precision: 0.3178752107925801\n",
      "F1: 0.47601010101010094\n",
      "Confusion Matrix:\n",
      " [[793 809]\n",
      " [ 21 377]]\n",
      "min samples leaf = 76 : \n",
      "\n",
      "Accuracy: 0.583\n",
      "Recall: 0.9371859296482412\n",
      "Precision: 0.3155668358714044\n",
      "F1: 0.47215189873417723\n",
      "Confusion Matrix:\n",
      " [[793 809]\n",
      " [ 25 373]]\n",
      "min samples leaf = 77 : \n",
      "\n",
      "Accuracy: 0.581\n",
      "Recall: 0.9447236180904522\n",
      "Precision: 0.31543624161073824\n",
      "F1: 0.4729559748427673\n",
      "Confusion Matrix:\n",
      " [[786 816]\n",
      " [ 22 376]]\n",
      "min samples leaf = 78 : \n",
      "\n",
      "Accuracy: 0.5805\n",
      "Recall: 0.9396984924623115\n",
      "Precision: 0.31455004205214465\n",
      "F1: 0.4713295526149968\n",
      "Confusion Matrix:\n",
      " [[787 815]\n",
      " [ 24 374]]\n",
      "min samples leaf = 79 : \n",
      "\n",
      "Accuracy: 0.578\n",
      "Recall: 0.9522613065326633\n",
      "Precision: 0.31478405315614616\n",
      "F1: 0.4731585518102372\n",
      "Confusion Matrix:\n",
      " [[777 825]\n",
      " [ 19 379]]\n",
      "min samples leaf = 80 : \n",
      "\n",
      "Accuracy: 0.566\n",
      "Recall: 0.9547738693467337\n",
      "Precision: 0.3089430894308943\n",
      "F1: 0.46683046683046686\n",
      "Confusion Matrix:\n",
      " [[752 850]\n",
      " [ 18 380]]\n",
      "min samples leaf = 81 : \n",
      "\n",
      "Accuracy: 0.5735\n",
      "Recall: 0.9371859296482412\n",
      "Precision: 0.3105745212323064\n",
      "F1: 0.46654158849280797\n",
      "Confusion Matrix:\n",
      " [[774 828]\n",
      " [ 25 373]]\n",
      "min samples leaf = 82 : \n",
      "\n",
      "Accuracy: 0.5695\n",
      "Recall: 0.9371859296482412\n",
      "Precision: 0.30851943755169564\n",
      "F1: 0.4642190416925949\n",
      "Confusion Matrix:\n",
      " [[766 836]\n",
      " [ 25 373]]\n",
      "min samples leaf = 83 : \n",
      "\n",
      "Accuracy: 0.561\n",
      "Recall: 0.9447236180904522\n",
      "Precision: 0.3051948051948052\n",
      "F1: 0.4613496932515338\n",
      "Confusion Matrix:\n",
      " [[746 856]\n",
      " [ 22 376]]\n",
      "min samples leaf = 84 : \n",
      "\n",
      "Accuracy: 0.5755\n",
      "Recall: 0.9547738693467337\n",
      "Precision: 0.3137902559867878\n",
      "F1: 0.47234307022995653\n",
      "Confusion Matrix:\n",
      " [[771 831]\n",
      " [ 18 380]]\n",
      "min samples leaf = 85 : \n",
      "\n",
      "Accuracy: 0.57\n",
      "Recall: 0.9522613065326633\n",
      "Precision: 0.31065573770491806\n",
      "F1: 0.46847960444993814\n",
      "Confusion Matrix:\n",
      " [[761 841]\n",
      " [ 19 379]]\n",
      "min samples leaf = 86 : \n",
      "\n",
      "Accuracy: 0.5645\n",
      "Recall: 0.957286432160804\n",
      "Precision: 0.308502024291498\n",
      "F1: 0.4666258420085732\n",
      "Confusion Matrix:\n",
      " [[748 854]\n",
      " [ 17 381]]\n",
      "min samples leaf = 87 : \n",
      "\n",
      "Accuracy: 0.5645\n",
      "Recall: 0.957286432160804\n",
      "Precision: 0.308502024291498\n",
      "F1: 0.4666258420085732\n",
      "Confusion Matrix:\n",
      " [[748 854]\n",
      " [ 17 381]]\n",
      "min samples leaf = 88 : \n",
      "\n",
      "Accuracy: 0.5655\n",
      "Recall: 0.9597989949748744\n",
      "Precision: 0.30931174089068825\n",
      "F1: 0.46785058175137784\n",
      "Confusion Matrix:\n",
      " [[749 853]\n",
      " [ 16 382]]\n",
      "min samples leaf = 89 : \n",
      "\n",
      "Accuracy: 0.5675\n",
      "Recall: 0.9623115577889447\n",
      "Precision: 0.31062449310624496\n",
      "F1: 0.4696505211526671\n",
      "Confusion Matrix:\n",
      " [[752 850]\n",
      " [ 15 383]]\n",
      "min samples leaf = 90 : \n",
      "\n",
      "Accuracy: 0.5685\n",
      "Recall: 0.9547738693467337\n",
      "Precision: 0.31020408163265306\n",
      "F1: 0.46826863832409116\n",
      "Confusion Matrix:\n",
      " [[757 845]\n",
      " [ 18 380]]\n",
      "min samples leaf = 91 : \n",
      "\n",
      "Accuracy: 0.5715\n",
      "Recall: 0.9547738693467337\n",
      "Precision: 0.3117309269893355\n",
      "F1: 0.4700061842918986\n",
      "Confusion Matrix:\n",
      " [[763 839]\n",
      " [ 18 380]]\n",
      "min samples leaf = 92 : \n",
      "\n",
      "Accuracy: 0.558\n",
      "Recall: 0.949748743718593\n",
      "Precision: 0.30434782608695654\n",
      "F1: 0.4609756097560976\n",
      "Confusion Matrix:\n",
      " [[738 864]\n",
      " [ 20 378]]\n",
      "min samples leaf = 93 : \n",
      "\n",
      "Accuracy: 0.5615\n",
      "Recall: 0.9522613065326633\n",
      "Precision: 0.30638641875505257\n",
      "F1: 0.46360856269113143\n",
      "Confusion Matrix:\n",
      " [[744 858]\n",
      " [ 19 379]]\n",
      "min samples leaf = 94 : \n",
      "\n",
      "Accuracy: 0.5665\n",
      "Recall: 0.9547738693467337\n",
      "Precision: 0.30919446704637915\n",
      "F1: 0.4671173939766441\n",
      "Confusion Matrix:\n",
      " [[753 849]\n",
      " [ 18 380]]\n",
      "min samples leaf = 95 : \n",
      "\n",
      "Accuracy: 0.5605\n",
      "Recall: 0.9623115577889447\n",
      "Precision: 0.3071371291098637\n",
      "F1: 0.46565349544072954\n",
      "Confusion Matrix:\n",
      " [[738 864]\n",
      " [ 15 383]]\n",
      "min samples leaf = 96 : \n",
      "\n",
      "Accuracy: 0.5585\n",
      "Recall: 0.9597989949748744\n",
      "Precision: 0.3058446757405925\n",
      "F1: 0.46387370977534914\n",
      "Confusion Matrix:\n",
      " [[735 867]\n",
      " [ 16 382]]\n",
      "min samples leaf = 97 : \n",
      "\n",
      "Accuracy: 0.5565\n",
      "Recall: 0.9597989949748744\n",
      "Precision: 0.3048683160415004\n",
      "F1: 0.46274984857662016\n",
      "Confusion Matrix:\n",
      " [[731 871]\n",
      " [ 16 382]]\n",
      "min samples leaf = 98 : \n",
      "\n",
      "Accuracy: 0.5525\n",
      "Recall: 0.9623115577889447\n",
      "Precision: 0.30324623911322246\n",
      "F1: 0.46116797110174595\n",
      "Confusion Matrix:\n",
      " [[722 880]\n",
      " [ 15 383]]\n",
      "min samples leaf = 99 : \n",
      "\n",
      "Accuracy: 0.5505\n",
      "Recall: 0.9597989949748744\n",
      "Precision: 0.3019762845849802\n",
      "F1: 0.4594107035478051\n",
      "Confusion Matrix:\n",
      " [[719 883]\n",
      " [ 16 382]]\n",
      "min samples leaf = 100 : \n",
      "\n",
      "Accuracy: 0.55\n",
      "Recall: 0.9623115577889447\n",
      "Precision: 0.3020504731861199\n",
      "F1: 0.45978391356542625\n",
      "Confusion Matrix:\n",
      " [[717 885]\n",
      " [ 15 383]]\n"
     ]
    }
   ],
   "source": [
    "# create lists to store our values\n",
    "\n",
    "leaf_f1 = []\n",
    "\n",
    "# create a loop\n",
    "\n",
    "for depth in range(1,101):\n",
    "    # create model\n",
    "    \n",
    "    leaf_model = RandomForestClassifier(random_state=12345, min_samples_leaf=depth)\n",
    "    leaf_model.fit(features_upsampled, target_upsampled)\n",
    "    \n",
    "    # predict value\n",
    "    \n",
    "    predicted_valid = leaf_model.predict(features_valid)\n",
    "    \n",
    "    # store prediction's f1 score\n",
    "    \n",
    "    training_score =  f1_score(target_valid, predicted_valid)\n",
    "    leaf_f1.append(training_score)\n",
    "\n",
    "    # print results\n",
    "    \n",
    "    print(\"min samples leaf =\", depth, \": \\n\")\n",
    "\n",
    "    model_metrics(target_valid, predicted_valid)"
   ]
  },
  {
   "cell_type": "code",
   "execution_count": 76,
   "metadata": {},
   "outputs": [
    {
     "name": "stdout",
     "output_type": "stream",
     "text": [
      "Min samples leaf maximum: 5 \n",
      "Training set maximum: 0.6210418794688458\n"
     ]
    }
   ],
   "source": [
    "# find maximum accuracy\n",
    "\n",
    "print(\"Min samples leaf maximum:\", leaf_f1.index(max(leaf_f1))+1,\n",
    "      \"\\nTraining set maximum:\", max(leaf_f1))"
   ]
  },
  {
   "cell_type": "code",
   "execution_count": 77,
   "metadata": {},
   "outputs": [
    {
     "data": {
      "image/png": "[encoded data removed]",
      "text/plain": [
       "<Figure size 432x288 with 1 Axes>"
      ]
     },
     "metadata": {
      "needs_background": "light"
     },
     "output_type": "display_data"
    }
   ],
   "source": [
    "plt.plot(leaf_f1)\n",
    "\n",
    "# plot details\n",
    "\n",
    "plt.ylabel('F1')\n",
    "plt.xlabel('min samples leaf')\n",
    "plt.title(\"Random Forest Accuracy\")\n",
    "plt.ylim(0,1)\n",
    "plt.grid()\n",
    "plt.show()"
   ]
  },
  {
   "cell_type": "code",
   "execution_count": 78,
   "metadata": {},
   "outputs": [
    {
     "name": "stdout",
     "output_type": "stream",
     "text": [
      "Accuracy: 0.8145\n",
      "Recall: 0.7638190954773869\n",
      "Precision: 0.5232358003442341\n",
      "F1: 0.6210418794688458\n",
      "Confusion Matrix:\n",
      " [[1325  277]\n",
      " [  94  304]]\n"
     ]
    }
   ],
   "source": [
    "# leaf model\n",
    "\n",
    "model = RandomForestClassifier(random_state=12345, min_samples_leaf=5)\n",
    "model.fit(features_upsampled, target_upsampled)\n",
    "    \n",
    "# predict value\n",
    "    \n",
    "predicted_valid = model.predict(features_valid)\n",
    "\n",
    "model_metrics(target_valid, predicted_valid)"
   ]
  },
  {
   "cell_type": "markdown",
   "metadata": {},
   "source": [
    "It seems like adjusting our minimum samples leaf value has some sort of effect that makes a curve that does not appear to be random. It quickly drops but when we split by leaves of minimum size 5, we will end up getting a model that is overall better. The precision dropped, but the recall grew at a faster rate. There are some ways that this model could be considered inferior, since it results in more false positives.\n",
    "\n",
    "In this instance, we should choose between the min samples model and the threshold model based on our goal. The aim of our predictive model is to identify which customers are likely to leave so that we can aim to retain their services. There will be relatively fewer consequences if the model returns a false positive - so long as it is not returning too many positives. However, each time we return a false negative, that is an extra customer lost. When our goal is to keep as many customers as possible, we should probably err on the side of our higher F1 model even if it is more likely to give us a false positive."
   ]
  },
  {
   "cell_type": "markdown",
   "metadata": {},
   "source": [
    "## Model testing\n",
    "\n",
    "Finally, we should test the model that we decided was our best fit with the test set."
   ]
  },
  {
   "cell_type": "code",
   "execution_count": 79,
   "metadata": {},
   "outputs": [
    {
     "name": "stdout",
     "output_type": "stream",
     "text": [
      "Accuracy: 0.813\n",
      "Recall: 0.738498789346247\n",
      "Precision: 0.5341506129597198\n",
      "F1: 0.6199186991869919\n",
      "Confusion Matrix:\n",
      " [[1321  266]\n",
      " [ 108  305]]\n"
     ]
    }
   ],
   "source": [
    "# leaf model\n",
    "\n",
    "model = RandomForestClassifier(random_state=12345, min_samples_leaf=5)\n",
    "model.fit(features_upsampled, target_upsampled)\n",
    "\n",
    "predicted_test = model.predict(features_test)\n",
    "\n",
    "model_metrics(target_test, predicted_test)"
   ]
  },
  {
   "cell_type": "markdown",
   "metadata": {},
   "source": [
    "This is a little troublesome. Using our leaf model our F1 score has dipped below the threshold we were looking for, and the reason is specifically because it is too likely to return a false positive. Tweaking the leaf model might get us past that threshold, but with the issue being the imbalance of the model, it might end up being too unreliable.\n",
    "\n",
    "Instead, let's at least give a look at the thresholded model - the one that also had our validation set return an F1 above 0.59 but that had its recall and precision be more similar to one another."
   ]
  },
  {
   "cell_type": "code",
   "execution_count": 80,
   "metadata": {},
   "outputs": [
    {
     "name": "stdout",
     "output_type": "stream",
     "text": [
      "Accuracy: 0.8475\n",
      "Recall: 0.6440677966101694\n",
      "Precision: 0.6273584905660378\n",
      "F1: 0.6356033452807647\n",
      "Confusion Matrix:\n",
      " [[1429  158]\n",
      " [ 147  266]]\n"
     ]
    }
   ],
   "source": [
    "# threshold model\n",
    "\n",
    "model = RandomForestClassifier(random_state = 12345)\n",
    "model.fit(features_upsampled, target_upsampled)\n",
    "\n",
    "# set predictions with the threshold\n",
    "\n",
    "probabilities_test = model.predict_proba(features_test)\n",
    "probabilities_one_test = probabilities_test[:, 1]\n",
    "predicted_test = probabilities_one_test > 0.4\n",
    "\n",
    "model_metrics(target_test, predicted_test)"
   ]
  },
  {
   "cell_type": "markdown",
   "metadata": {},
   "source": [
    "Here we see the highest F1 score yet, which seems to say that the threshold model is working better. Our recall and precision are relatively close. It would seem to suggest that this model will work more reliably with newer data, and we also have a much more stable idea of what proportion of our model will be erroneous. With that in mind, this should probably be our final model."
   ]
  },
  {
   "cell_type": "markdown",
   "metadata": {},
   "source": [
    "## Conclusion\n",
    "\n",
    "In order to achieve our desired F1 score of over 0.59, we first tested a few of our models to see which style would prove the most promising and chose to use a random forest classifier. We checked our models for accuracy, recall, precision, and their F1 scores as we tuned them, modifying by testing for upsampling, downsampling, and altering the classification threshold. We found a model that has a high ROC curve and the suitable F1 score.\n",
    "\n",
    "We tuned our hyperparameters to find the highest F1 score we could, but identified that it might not be better than one of our earlier models since it was not strictly more accurate but rather was more likely to catch the true positives. When we used our test set, this proved to be true, as the one that did not modify hyperparameters was ultimately a better fitted model."
   ]
  }
 ],
 "metadata": {
  "ExecuteTimeLog": [
   {
    "duration": 686,
    "start_time": "2022-03-13T18:01:49.437Z"
   },
   {
    "duration": 30,
    "start_time": "2022-03-13T18:02:03.418Z"
   },
   {
    "duration": 19,
    "start_time": "2022-03-13T18:02:09.796Z"
   },
   {
    "duration": 10,
    "start_time": "2022-03-13T18:02:15.270Z"
   },
   {
    "duration": 344,
    "start_time": "2022-03-13T18:02:58.326Z"
   },
   {
    "duration": 8,
    "start_time": "2022-03-13T18:03:02.094Z"
   },
   {
    "duration": 6,
    "start_time": "2022-03-13T18:03:36.700Z"
   },
   {
    "duration": 21,
    "start_time": "2022-03-13T18:03:43.553Z"
   },
   {
    "duration": 15,
    "start_time": "2022-03-13T22:44:26.464Z"
   },
   {
    "duration": 21,
    "start_time": "2022-03-13T22:44:48.818Z"
   },
   {
    "duration": 24,
    "start_time": "2022-03-13T22:45:01.061Z"
   },
   {
    "duration": 23,
    "start_time": "2022-03-13T22:46:13.726Z"
   },
   {
    "duration": 5,
    "start_time": "2022-03-13T22:49:27.980Z"
   },
   {
    "duration": 7,
    "start_time": "2022-03-13T22:49:32.646Z"
   },
   {
    "duration": 3,
    "start_time": "2022-03-13T22:49:42.383Z"
   },
   {
    "duration": 7,
    "start_time": "2022-03-13T22:49:44.723Z"
   },
   {
    "duration": 5,
    "start_time": "2022-03-13T22:57:05.164Z"
   },
   {
    "duration": 10,
    "start_time": "2022-03-13T22:57:09.230Z"
   },
   {
    "duration": 484,
    "start_time": "2022-03-13T22:57:51.333Z"
   },
   {
    "duration": 405,
    "start_time": "2022-03-13T22:58:03.598Z"
   },
   {
    "duration": 9,
    "start_time": "2022-03-13T22:58:36.014Z"
   },
   {
    "duration": 3,
    "start_time": "2022-03-13T23:54:18.665Z"
   },
   {
    "duration": 338,
    "start_time": "2022-03-13T23:55:08.137Z"
   },
   {
    "duration": 3,
    "start_time": "2022-03-13T23:55:18.961Z"
   },
   {
    "duration": 303,
    "start_time": "2022-03-13T23:55:23.970Z"
   },
   {
    "duration": 189,
    "start_time": "2022-03-13T23:56:36.717Z"
   },
   {
    "duration": 24,
    "start_time": "2022-03-13T23:56:40.315Z"
   },
   {
    "duration": 15,
    "start_time": "2022-03-14T00:02:27.232Z"
   },
   {
    "duration": 4,
    "start_time": "2022-03-14T00:04:41.127Z"
   },
   {
    "duration": 4,
    "start_time": "2022-03-14T00:04:49.677Z"
   },
   {
    "duration": 293,
    "start_time": "2022-03-14T00:04:56.950Z"
   },
   {
    "duration": 8,
    "start_time": "2022-03-14T00:05:02.297Z"
   },
   {
    "duration": 291,
    "start_time": "2022-03-14T00:05:29.798Z"
   },
   {
    "duration": 4,
    "start_time": "2022-03-14T00:05:32.670Z"
   },
   {
    "duration": 6,
    "start_time": "2022-03-14T00:06:11.482Z"
   },
   {
    "duration": 309,
    "start_time": "2022-03-14T00:07:00.505Z"
   },
   {
    "duration": 8132,
    "start_time": "2022-03-14T00:07:11.123Z"
   },
   {
    "duration": 4031,
    "start_time": "2022-03-14T00:07:27.167Z"
   },
   {
    "duration": 5,
    "start_time": "2022-03-14T00:07:37.001Z"
   },
   {
    "duration": 5,
    "start_time": "2022-03-14T00:07:45.799Z"
   },
   {
    "duration": 300,
    "start_time": "2022-03-14T00:10:25.523Z"
   },
   {
    "duration": 31,
    "start_time": "2022-03-14T00:10:45.089Z"
   },
   {
    "duration": 8,
    "start_time": "2022-03-14T00:10:52.111Z"
   },
   {
    "duration": 6,
    "start_time": "2022-03-14T00:12:11.229Z"
   },
   {
    "duration": 7,
    "start_time": "2022-03-14T00:12:24.135Z"
   },
   {
    "duration": 12,
    "start_time": "2022-03-14T00:15:55.719Z"
   },
   {
    "duration": 16,
    "start_time": "2022-03-14T00:15:58.833Z"
   },
   {
    "duration": 6,
    "start_time": "2022-03-14T00:17:35.330Z"
   },
   {
    "duration": 15,
    "start_time": "2022-03-14T00:17:46.089Z"
   },
   {
    "duration": 308,
    "start_time": "2022-03-14T00:18:16.454Z"
   },
   {
    "duration": 26,
    "start_time": "2022-03-14T00:42:59.946Z"
   },
   {
    "duration": 44,
    "start_time": "2022-03-14T00:43:03.970Z"
   },
   {
    "duration": 7,
    "start_time": "2022-03-14T00:43:11.364Z"
   },
   {
    "duration": 2,
    "start_time": "2022-03-14T00:43:58.926Z"
   },
   {
    "duration": 7,
    "start_time": "2022-03-14T00:44:17.367Z"
   },
   {
    "duration": 6,
    "start_time": "2022-03-14T01:54:16.227Z"
   },
   {
    "duration": 14,
    "start_time": "2022-03-14T01:54:41.230Z"
   },
   {
    "duration": 23,
    "start_time": "2022-03-14T01:55:15.143Z"
   },
   {
    "duration": 15,
    "start_time": "2022-03-14T01:55:23.402Z"
   },
   {
    "duration": 45,
    "start_time": "2022-03-14T01:55:50.630Z"
   },
   {
    "duration": 6,
    "start_time": "2022-03-14T01:55:51.293Z"
   },
   {
    "duration": 3,
    "start_time": "2022-03-14T04:14:19.791Z"
   },
   {
    "duration": 4,
    "start_time": "2022-03-14T04:15:51.931Z"
   },
   {
    "duration": 9,
    "start_time": "2022-03-14T04:16:29.455Z"
   },
   {
    "duration": 3,
    "start_time": "2022-03-14T04:16:59.403Z"
   },
   {
    "duration": 335,
    "start_time": "2022-03-14T04:17:14.574Z"
   },
   {
    "duration": 72,
    "start_time": "2022-03-14T04:17:27.248Z"
   },
   {
    "duration": 370,
    "start_time": "2022-03-14T04:17:31.280Z"
   },
   {
    "duration": 45,
    "start_time": "2022-03-14T04:17:39.115Z"
   },
   {
    "duration": 151,
    "start_time": "2022-03-14T04:17:41.570Z"
   },
   {
    "duration": 344,
    "start_time": "2022-03-14T04:17:48.020Z"
   },
   {
    "duration": 322,
    "start_time": "2022-03-14T04:17:59.727Z"
   },
   {
    "duration": 219,
    "start_time": "2022-03-15T02:30:43.103Z"
   },
   {
    "duration": 1100,
    "start_time": "2022-03-15T02:30:50.269Z"
   },
   {
    "duration": 24,
    "start_time": "2022-03-15T02:30:51.371Z"
   },
   {
    "duration": 15,
    "start_time": "2022-03-15T02:30:51.397Z"
   },
   {
    "duration": 8,
    "start_time": "2022-03-15T02:30:51.414Z"
   },
   {
    "duration": 3,
    "start_time": "2022-03-15T02:30:51.438Z"
   },
   {
    "duration": 9,
    "start_time": "2022-03-15T02:30:51.443Z"
   },
   {
    "duration": 5,
    "start_time": "2022-03-15T02:30:51.453Z"
   },
   {
    "duration": 15,
    "start_time": "2022-03-15T02:30:51.460Z"
   },
   {
    "duration": 7,
    "start_time": "2022-03-15T02:30:51.478Z"
   },
   {
    "duration": 53,
    "start_time": "2022-03-15T02:30:51.486Z"
   },
   {
    "duration": 24,
    "start_time": "2022-03-15T02:30:51.540Z"
   },
   {
    "duration": 46,
    "start_time": "2022-03-15T02:30:51.566Z"
   },
   {
    "duration": 31,
    "start_time": "2022-03-15T02:30:51.613Z"
   },
   {
    "duration": 361,
    "start_time": "2022-03-15T02:30:51.646Z"
   },
   {
    "duration": 35,
    "start_time": "2022-03-15T02:30:52.009Z"
   },
   {
    "duration": 266,
    "start_time": "2022-03-15T02:31:19.802Z"
   },
   {
    "duration": 46,
    "start_time": "2022-03-15T02:31:29.004Z"
   },
   {
    "duration": 25,
    "start_time": "2022-03-15T02:31:31.677Z"
   },
   {
    "duration": 367,
    "start_time": "2022-03-15T02:33:21.125Z"
   },
   {
    "duration": 55,
    "start_time": "2022-03-15T02:34:29.386Z"
   },
   {
    "duration": 27,
    "start_time": "2022-03-15T02:34:32.888Z"
   },
   {
    "duration": 242,
    "start_time": "2022-03-15T04:20:47.767Z"
   },
   {
    "duration": 4,
    "start_time": "2022-03-15T04:21:00.195Z"
   },
   {
    "duration": 232,
    "start_time": "2022-03-15T04:21:04.845Z"
   },
   {
    "duration": 235,
    "start_time": "2022-03-15T04:30:17.130Z"
   },
   {
    "duration": 274,
    "start_time": "2022-03-15T04:30:29.895Z"
   },
   {
    "duration": 292,
    "start_time": "2022-03-15T04:31:37.976Z"
   },
   {
    "duration": 4,
    "start_time": "2022-03-15T04:31:51.637Z"
   },
   {
    "duration": 71,
    "start_time": "2022-03-15T04:31:54.496Z"
   },
   {
    "duration": 28,
    "start_time": "2022-03-15T04:32:13.199Z"
   },
   {
    "duration": 112,
    "start_time": "2022-03-15T04:32:41.827Z"
   },
   {
    "duration": 25,
    "start_time": "2022-03-15T04:32:43.860Z"
   },
   {
    "duration": 523,
    "start_time": "2022-03-15T04:33:04.431Z"
   },
   {
    "duration": 22,
    "start_time": "2022-03-15T04:33:13.329Z"
   },
   {
    "duration": 24,
    "start_time": "2022-03-15T04:33:16.452Z"
   },
   {
    "duration": 329,
    "start_time": "2022-03-15T04:34:28.277Z"
   },
   {
    "duration": 75,
    "start_time": "2022-03-15T04:34:30.862Z"
   },
   {
    "duration": 10,
    "start_time": "2022-03-15T04:35:24.414Z"
   },
   {
    "duration": 52,
    "start_time": "2022-03-15T04:35:37.818Z"
   },
   {
    "duration": 106,
    "start_time": "2022-03-15T04:35:45.153Z"
   },
   {
    "duration": 4,
    "start_time": "2022-03-15T04:37:16.743Z"
   },
   {
    "duration": 25,
    "start_time": "2022-03-15T04:37:16.749Z"
   },
   {
    "duration": 14,
    "start_time": "2022-03-15T04:37:16.776Z"
   },
   {
    "duration": 12,
    "start_time": "2022-03-15T04:37:16.791Z"
   },
   {
    "duration": 7,
    "start_time": "2022-03-15T04:37:16.804Z"
   },
   {
    "duration": 10,
    "start_time": "2022-03-15T04:37:16.812Z"
   },
   {
    "duration": 15,
    "start_time": "2022-03-15T04:37:16.823Z"
   },
   {
    "duration": 12,
    "start_time": "2022-03-15T04:37:16.840Z"
   },
   {
    "duration": 8,
    "start_time": "2022-03-15T04:37:16.854Z"
   },
   {
    "duration": 15,
    "start_time": "2022-03-15T04:37:16.863Z"
   },
   {
    "duration": 22,
    "start_time": "2022-03-15T04:37:16.880Z"
   },
   {
    "duration": 81,
    "start_time": "2022-03-15T04:37:16.903Z"
   },
   {
    "duration": 115,
    "start_time": "2022-03-15T04:37:16.986Z"
   },
   {
    "duration": 401,
    "start_time": "2022-03-15T04:37:17.102Z"
   },
   {
    "duration": 34,
    "start_time": "2022-03-15T04:37:17.505Z"
   },
   {
    "duration": 296,
    "start_time": "2022-03-15T04:37:17.541Z"
   },
   {
    "duration": 116,
    "start_time": "2022-03-15T04:37:17.840Z"
   },
   {
    "duration": 1111,
    "start_time": "2022-03-15T14:53:43.112Z"
   },
   {
    "duration": 39,
    "start_time": "2022-03-15T14:53:44.224Z"
   },
   {
    "duration": 13,
    "start_time": "2022-03-15T14:53:44.265Z"
   },
   {
    "duration": 7,
    "start_time": "2022-03-15T14:53:44.280Z"
   },
   {
    "duration": 2,
    "start_time": "2022-03-15T14:53:44.289Z"
   },
   {
    "duration": 6,
    "start_time": "2022-03-15T14:53:44.293Z"
   },
   {
    "duration": 3,
    "start_time": "2022-03-15T14:53:44.301Z"
   },
   {
    "duration": 13,
    "start_time": "2022-03-15T14:53:44.305Z"
   },
   {
    "duration": 6,
    "start_time": "2022-03-15T14:53:44.320Z"
   },
   {
    "duration": 13,
    "start_time": "2022-03-15T14:53:44.328Z"
   },
   {
    "duration": 21,
    "start_time": "2022-03-15T14:53:44.342Z"
   },
   {
    "duration": 80,
    "start_time": "2022-03-15T14:53:44.365Z"
   },
   {
    "duration": 109,
    "start_time": "2022-03-15T14:53:44.447Z"
   },
   {
    "duration": 389,
    "start_time": "2022-03-15T14:53:44.558Z"
   },
   {
    "duration": 52,
    "start_time": "2022-03-15T14:53:44.949Z"
   },
   {
    "duration": 199,
    "start_time": "2022-03-15T14:53:45.003Z"
   },
   {
    "duration": 113,
    "start_time": "2022-03-15T14:53:45.204Z"
   },
   {
    "duration": 3,
    "start_time": "2022-03-15T14:58:00.055Z"
   },
   {
    "duration": 53,
    "start_time": "2022-03-15T14:58:28.260Z"
   },
   {
    "duration": 103,
    "start_time": "2022-03-15T14:58:36.618Z"
   },
   {
    "duration": 73,
    "start_time": "2022-03-15T14:58:47.332Z"
   },
   {
    "duration": 102,
    "start_time": "2022-03-15T14:59:32.900Z"
   },
   {
    "duration": 97,
    "start_time": "2022-03-15T14:59:57.583Z"
   },
   {
    "duration": 48,
    "start_time": "2022-03-15T15:00:09.217Z"
   },
   {
    "duration": 477,
    "start_time": "2022-03-15T15:13:06.782Z"
   },
   {
    "duration": 4,
    "start_time": "2022-03-15T15:13:21.408Z"
   },
   {
    "duration": 54,
    "start_time": "2022-03-15T15:13:27.161Z"
   },
   {
    "duration": 53,
    "start_time": "2022-03-15T15:13:34.414Z"
   },
   {
    "duration": 52,
    "start_time": "2022-03-15T15:13:39.700Z"
   },
   {
    "duration": 102,
    "start_time": "2022-03-15T15:13:56.292Z"
   },
   {
    "duration": 57,
    "start_time": "2022-03-15T15:14:04.951Z"
   },
   {
    "duration": 200,
    "start_time": "2022-03-15T15:16:28.948Z"
   },
   {
    "duration": 55,
    "start_time": "2022-03-15T15:16:32.967Z"
   },
   {
    "duration": 235,
    "start_time": "2022-03-15T15:18:25.512Z"
   },
   {
    "duration": 1063,
    "start_time": "2022-03-16T02:20:24.723Z"
   },
   {
    "duration": 28736,
    "start_time": "2022-03-16T02:20:34.279Z"
   },
   {
    "duration": 199,
    "start_time": "2022-03-16T02:21:22.853Z"
   },
   {
    "duration": 44,
    "start_time": "2022-03-16T02:21:32.135Z"
   },
   {
    "duration": 53,
    "start_time": "2022-03-16T02:21:38.648Z"
   },
   {
    "duration": 95,
    "start_time": "2022-03-16T02:46:51.607Z"
   },
   {
    "duration": 347,
    "start_time": "2022-03-16T02:50:17.931Z"
   },
   {
    "duration": 3,
    "start_time": "2022-03-16T02:50:20.261Z"
   },
   {
    "duration": 50,
    "start_time": "2022-03-16T02:50:20.929Z"
   },
   {
    "duration": 247,
    "start_time": "2022-03-16T02:50:32.669Z"
   },
   {
    "duration": 388,
    "start_time": "2022-03-16T02:50:50.008Z"
   },
   {
    "duration": 241,
    "start_time": "2022-03-16T02:50:53.625Z"
   },
   {
    "duration": 195,
    "start_time": "2022-03-16T02:50:59.112Z"
   },
   {
    "duration": 53,
    "start_time": "2022-03-16T02:51:03.258Z"
   },
   {
    "duration": 15,
    "start_time": "2022-03-16T02:51:23.510Z"
   },
   {
    "duration": 24326,
    "start_time": "2022-03-16T02:51:30.126Z"
   },
   {
    "duration": 514671,
    "start_time": "2022-03-16T03:17:12.077Z"
   },
   {
    "duration": 193,
    "start_time": "2022-03-16T03:32:58.669Z"
   },
   {
    "duration": 1227,
    "start_time": "2022-03-16T03:34:38.529Z"
   },
   {
    "duration": 982,
    "start_time": "2022-03-16T03:36:57.613Z"
   },
   {
    "duration": 191,
    "start_time": "2022-03-16T03:37:23.905Z"
   },
   {
    "duration": 59,
    "start_time": "2022-03-16T03:38:41.148Z"
   },
   {
    "duration": 91,
    "start_time": "2022-03-16T03:39:11.211Z"
   },
   {
    "duration": 328,
    "start_time": "2022-03-16T03:41:12.998Z"
   },
   {
    "duration": 123,
    "start_time": "2022-03-16T03:41:20.278Z"
   },
   {
    "duration": 30474,
    "start_time": "2022-03-16T03:41:36.007Z"
   },
   {
    "duration": 126,
    "start_time": "2022-03-16T03:42:45.354Z"
   },
   {
    "duration": 29233,
    "start_time": "2022-03-16T03:44:32.144Z"
   },
   {
    "duration": 124,
    "start_time": "2022-03-16T03:47:59.570Z"
   },
   {
    "duration": 164,
    "start_time": "2022-03-16T03:48:30.649Z"
   },
   {
    "duration": 1501,
    "start_time": "2022-03-17T00:40:04.472Z"
   },
   {
    "duration": 48,
    "start_time": "2022-03-17T00:40:05.976Z"
   },
   {
    "duration": 24,
    "start_time": "2022-03-17T00:40:06.028Z"
   },
   {
    "duration": 13,
    "start_time": "2022-03-17T00:40:06.055Z"
   },
   {
    "duration": 5,
    "start_time": "2022-03-17T00:40:06.071Z"
   },
   {
    "duration": 11,
    "start_time": "2022-03-17T00:40:06.078Z"
   },
   {
    "duration": 7,
    "start_time": "2022-03-17T00:40:06.091Z"
   },
   {
    "duration": 59,
    "start_time": "2022-03-17T00:40:06.102Z"
   },
   {
    "duration": 10,
    "start_time": "2022-03-17T00:40:06.163Z"
   },
   {
    "duration": 24,
    "start_time": "2022-03-17T00:40:06.175Z"
   },
   {
    "duration": 63,
    "start_time": "2022-03-17T00:40:06.202Z"
   },
   {
    "duration": 4,
    "start_time": "2022-03-17T00:40:06.268Z"
   },
   {
    "duration": 99,
    "start_time": "2022-03-17T00:40:06.274Z"
   },
   {
    "duration": 175,
    "start_time": "2022-03-17T00:40:06.375Z"
   },
   {
    "duration": 100,
    "start_time": "2022-03-17T00:40:06.552Z"
   },
   {
    "duration": 426,
    "start_time": "2022-03-17T00:40:06.744Z"
   },
   {
    "duration": 365,
    "start_time": "2022-03-17T00:40:07.173Z"
   },
   {
    "duration": 84,
    "start_time": "2022-03-17T00:40:07.543Z"
   },
   {
    "duration": 37214,
    "start_time": "2022-03-17T00:40:07.643Z"
   },
   {
    "duration": 270,
    "start_time": "2022-03-17T00:40:44.859Z"
   },
   {
    "duration": 24,
    "start_time": "2022-03-17T00:40:45.131Z"
   },
   {
    "duration": 18,
    "start_time": "2022-03-17T00:42:21.861Z"
   },
   {
    "duration": 465,
    "start_time": "2022-03-17T00:42:47.979Z"
   },
   {
    "duration": 6,
    "start_time": "2022-03-17T00:43:00.491Z"
   },
   {
    "duration": 255,
    "start_time": "2022-03-17T00:43:03.548Z"
   },
   {
    "duration": 257,
    "start_time": "2022-03-17T01:11:26.980Z"
   },
   {
    "duration": 254,
    "start_time": "2022-03-17T01:11:33.430Z"
   },
   {
    "duration": 256,
    "start_time": "2022-03-17T01:11:43.214Z"
   },
   {
    "duration": 259,
    "start_time": "2022-03-17T01:12:19.053Z"
   },
   {
    "duration": 258,
    "start_time": "2022-03-17T01:41:19.074Z"
   },
   {
    "duration": 261,
    "start_time": "2022-03-17T01:41:29.209Z"
   },
   {
    "duration": 631,
    "start_time": "2022-03-17T01:42:23.880Z"
   },
   {
    "duration": 288,
    "start_time": "2022-03-17T01:42:45.973Z"
   },
   {
    "duration": 281,
    "start_time": "2022-03-17T01:43:30.764Z"
   },
   {
    "duration": 32,
    "start_time": "2022-03-17T01:43:56.001Z"
   },
   {
    "duration": 251,
    "start_time": "2022-03-17T01:44:48.520Z"
   },
   {
    "duration": 1487,
    "start_time": "2022-03-17T01:54:07.605Z"
   },
   {
    "duration": 46,
    "start_time": "2022-03-17T01:54:09.095Z"
   },
   {
    "duration": 21,
    "start_time": "2022-03-17T01:54:09.144Z"
   },
   {
    "duration": 11,
    "start_time": "2022-03-17T01:54:09.168Z"
   },
   {
    "duration": 4,
    "start_time": "2022-03-17T01:54:09.181Z"
   },
   {
    "duration": 10,
    "start_time": "2022-03-17T01:54:09.187Z"
   },
   {
    "duration": 46,
    "start_time": "2022-03-17T01:54:09.199Z"
   },
   {
    "duration": 22,
    "start_time": "2022-03-17T01:54:09.248Z"
   },
   {
    "duration": 115,
    "start_time": "2022-03-17T01:54:09.273Z"
   },
   {
    "duration": 778,
    "start_time": "2022-03-17T01:54:08.612Z"
   },
   {
    "duration": 778,
    "start_time": "2022-03-17T01:54:08.613Z"
   },
   {
    "duration": 665,
    "start_time": "2022-03-17T01:54:08.728Z"
   },
   {
    "duration": 662,
    "start_time": "2022-03-17T01:54:08.732Z"
   },
   {
    "duration": 663,
    "start_time": "2022-03-17T01:54:08.733Z"
   },
   {
    "duration": 663,
    "start_time": "2022-03-17T01:54:08.734Z"
   },
   {
    "duration": 663,
    "start_time": "2022-03-17T01:54:08.735Z"
   },
   {
    "duration": 663,
    "start_time": "2022-03-17T01:54:08.736Z"
   },
   {
    "duration": 664,
    "start_time": "2022-03-17T01:54:08.737Z"
   },
   {
    "duration": 664,
    "start_time": "2022-03-17T01:54:08.738Z"
   },
   {
    "duration": 664,
    "start_time": "2022-03-17T01:54:08.739Z"
   },
   {
    "duration": 664,
    "start_time": "2022-03-17T01:54:08.740Z"
   },
   {
    "duration": 21,
    "start_time": "2022-03-17T01:55:28.568Z"
   },
   {
    "duration": 13,
    "start_time": "2022-03-17T01:55:28.591Z"
   },
   {
    "duration": 28,
    "start_time": "2022-03-17T01:55:28.607Z"
   },
   {
    "duration": 6,
    "start_time": "2022-03-17T01:55:28.637Z"
   },
   {
    "duration": 456,
    "start_time": "2022-03-17T01:55:28.646Z"
   },
   {
    "duration": 777,
    "start_time": "2022-03-17T01:55:28.328Z"
   },
   {
    "duration": 777,
    "start_time": "2022-03-17T01:55:28.329Z"
   },
   {
    "duration": 778,
    "start_time": "2022-03-17T01:55:28.330Z"
   },
   {
    "duration": 777,
    "start_time": "2022-03-17T01:55:28.333Z"
   },
   {
    "duration": 777,
    "start_time": "2022-03-17T01:55:28.334Z"
   },
   {
    "duration": 612,
    "start_time": "2022-03-17T01:55:28.501Z"
   },
   {
    "duration": 612,
    "start_time": "2022-03-17T01:55:28.502Z"
   },
   {
    "duration": 613,
    "start_time": "2022-03-17T01:55:28.503Z"
   },
   {
    "duration": 613,
    "start_time": "2022-03-17T01:55:28.504Z"
   },
   {
    "duration": 358,
    "start_time": "2022-03-17T01:56:29.157Z"
   },
   {
    "duration": 1430,
    "start_time": "2022-03-17T01:56:35.754Z"
   },
   {
    "duration": 35,
    "start_time": "2022-03-17T01:56:37.187Z"
   },
   {
    "duration": 25,
    "start_time": "2022-03-17T01:56:37.225Z"
   },
   {
    "duration": 12,
    "start_time": "2022-03-17T01:56:37.253Z"
   },
   {
    "duration": 4,
    "start_time": "2022-03-17T01:56:37.267Z"
   },
   {
    "duration": 9,
    "start_time": "2022-03-17T01:56:37.274Z"
   },
   {
    "duration": 6,
    "start_time": "2022-03-17T01:56:37.285Z"
   },
   {
    "duration": 65,
    "start_time": "2022-03-17T01:56:37.294Z"
   },
   {
    "duration": 13,
    "start_time": "2022-03-17T01:56:37.363Z"
   },
   {
    "duration": 28,
    "start_time": "2022-03-17T01:56:37.379Z"
   },
   {
    "duration": 4,
    "start_time": "2022-03-17T01:56:37.410Z"
   },
   {
    "duration": 455,
    "start_time": "2022-03-17T01:56:37.444Z"
   },
   {
    "duration": 788,
    "start_time": "2022-03-17T01:56:37.114Z"
   },
   {
    "duration": 779,
    "start_time": "2022-03-17T01:56:37.124Z"
   },
   {
    "duration": 780,
    "start_time": "2022-03-17T01:56:37.125Z"
   },
   {
    "duration": 781,
    "start_time": "2022-03-17T01:56:37.126Z"
   },
   {
    "duration": 777,
    "start_time": "2022-03-17T01:56:37.131Z"
   },
   {
    "duration": 778,
    "start_time": "2022-03-17T01:56:37.132Z"
   },
   {
    "duration": 778,
    "start_time": "2022-03-17T01:56:37.133Z"
   },
   {
    "duration": 779,
    "start_time": "2022-03-17T01:56:37.134Z"
   },
   {
    "duration": 776,
    "start_time": "2022-03-17T01:56:37.138Z"
   },
   {
    "duration": 20,
    "start_time": "2022-03-17T01:57:14.871Z"
   },
   {
    "duration": 13,
    "start_time": "2022-03-17T01:57:14.894Z"
   },
   {
    "duration": 32,
    "start_time": "2022-03-17T01:57:14.911Z"
   },
   {
    "duration": 5,
    "start_time": "2022-03-17T01:57:14.946Z"
   },
   {
    "duration": 68,
    "start_time": "2022-03-17T01:57:14.953Z"
   },
   {
    "duration": 157,
    "start_time": "2022-03-17T01:57:15.023Z"
   },
   {
    "duration": 169,
    "start_time": "2022-03-17T01:57:15.182Z"
   },
   {
    "duration": 459,
    "start_time": "2022-03-17T01:57:15.354Z"
   },
   {
    "duration": 310,
    "start_time": "2022-03-17T01:57:15.817Z"
   },
   {
    "duration": 90,
    "start_time": "2022-03-17T01:57:16.130Z"
   },
   {
    "duration": 29705,
    "start_time": "2022-03-17T01:57:16.222Z"
   },
   {
    "duration": 277,
    "start_time": "2022-03-17T01:57:45.930Z"
   },
   {
    "duration": 46,
    "start_time": "2022-03-17T01:57:46.210Z"
   },
   {
    "duration": 336,
    "start_time": "2022-03-17T01:57:46.259Z"
   },
   {
    "duration": 350,
    "start_time": "2022-03-17T02:04:17.881Z"
   },
   {
    "duration": 67960,
    "start_time": "2022-03-17T02:04:27.338Z"
   },
   {
    "duration": 254,
    "start_time": "2022-03-17T02:27:43.309Z"
   },
   {
    "duration": 64,
    "start_time": "2022-03-18T01:47:03.231Z"
   },
   {
    "duration": 2051,
    "start_time": "2022-03-18T01:47:09.234Z"
   },
   {
    "duration": 30,
    "start_time": "2022-03-18T01:47:11.288Z"
   },
   {
    "duration": 25,
    "start_time": "2022-03-18T01:47:11.320Z"
   },
   {
    "duration": 39,
    "start_time": "2022-03-18T01:47:11.348Z"
   },
   {
    "duration": 5,
    "start_time": "2022-03-18T01:47:11.389Z"
   },
   {
    "duration": 10,
    "start_time": "2022-03-18T01:47:11.396Z"
   },
   {
    "duration": 7,
    "start_time": "2022-03-18T01:47:11.409Z"
   },
   {
    "duration": 18,
    "start_time": "2022-03-18T01:47:11.418Z"
   },
   {
    "duration": 44,
    "start_time": "2022-03-18T01:47:11.438Z"
   },
   {
    "duration": 6,
    "start_time": "2022-03-18T01:47:11.486Z"
   },
   {
    "duration": 33,
    "start_time": "2022-03-18T01:47:11.494Z"
   },
   {
    "duration": 5,
    "start_time": "2022-03-18T01:47:11.529Z"
   },
   {
    "duration": 96,
    "start_time": "2022-03-18T01:47:11.536Z"
   },
   {
    "duration": 1047,
    "start_time": "2022-03-18T01:47:11.635Z"
   },
   {
    "duration": 201,
    "start_time": "2022-03-18T01:47:12.685Z"
   },
   {
    "duration": 1208,
    "start_time": "2022-03-18T01:47:12.889Z"
   },
   {
    "duration": 2224,
    "start_time": "2022-03-18T01:47:14.099Z"
   },
   {
    "duration": 428,
    "start_time": "2022-03-18T01:47:16.325Z"
   },
   {
    "duration": 226503,
    "start_time": "2022-03-18T01:47:16.755Z"
   },
   {
    "duration": 303,
    "start_time": "2022-03-18T01:51:03.261Z"
   },
   {
    "duration": 90,
    "start_time": "2022-03-18T01:51:03.566Z"
   },
   {
    "duration": 256,
    "start_time": "2022-03-18T01:51:03.658Z"
   },
   {
    "duration": 8,
    "start_time": "2022-03-18T01:51:03.918Z"
   },
   {
    "duration": 151,
    "start_time": "2022-03-18T01:52:04.278Z"
   },
   {
    "duration": 8,
    "start_time": "2022-03-18T01:52:08.248Z"
   },
   {
    "duration": 8,
    "start_time": "2022-03-18T01:52:13.136Z"
   },
   {
    "duration": 6,
    "start_time": "2022-03-18T01:52:48.890Z"
   },
   {
    "duration": 31,
    "start_time": "2022-03-18T01:52:48.899Z"
   },
   {
    "duration": 19,
    "start_time": "2022-03-18T01:52:48.932Z"
   },
   {
    "duration": 34,
    "start_time": "2022-03-18T01:52:48.953Z"
   },
   {
    "duration": 5,
    "start_time": "2022-03-18T01:52:48.990Z"
   },
   {
    "duration": 32,
    "start_time": "2022-03-18T01:52:48.997Z"
   },
   {
    "duration": 15,
    "start_time": "2022-03-18T01:52:49.031Z"
   },
   {
    "duration": 25,
    "start_time": "2022-03-18T01:52:49.048Z"
   },
   {
    "duration": 12,
    "start_time": "2022-03-18T01:52:49.075Z"
   },
   {
    "duration": 19,
    "start_time": "2022-03-18T01:52:49.089Z"
   },
   {
    "duration": 34,
    "start_time": "2022-03-18T01:52:49.110Z"
   },
   {
    "duration": 4,
    "start_time": "2022-03-18T01:52:49.147Z"
   },
   {
    "duration": 86,
    "start_time": "2022-03-18T01:52:49.154Z"
   },
   {
    "duration": 1063,
    "start_time": "2022-03-18T01:52:49.244Z"
   },
   {
    "duration": 175,
    "start_time": "2022-03-18T01:52:50.309Z"
   },
   {
    "duration": 1219,
    "start_time": "2022-03-18T01:52:50.487Z"
   },
   {
    "duration": 2221,
    "start_time": "2022-03-18T01:58:34.133Z"
   },
   {
    "duration": 417,
    "start_time": "2022-03-18T01:58:45.992Z"
   },
   {
    "duration": 413434,
    "start_time": "2022-03-18T01:59:21.105Z"
   },
   {
    "duration": 1507,
    "start_time": "2022-03-18T02:09:47.637Z"
   },
   {
    "duration": 411,
    "start_time": "2022-03-18T02:13:23.505Z"
   },
   {
    "duration": 347667,
    "start_time": "2022-03-18T02:13:29.060Z"
   },
   {
    "duration": 310053,
    "start_time": "2022-03-18T02:30:58.418Z"
   },
   {
    "duration": 346938,
    "start_time": "2022-03-18T02:36:09.704Z"
   },
   {
    "duration": 17227,
    "start_time": "2022-03-18T02:42:10.760Z"
   },
   {
    "duration": 17,
    "start_time": "2022-03-18T02:46:31.233Z"
   },
   {
    "duration": 277,
    "start_time": "2022-03-18T02:47:03.669Z"
   },
   {
    "duration": 78,
    "start_time": "2022-03-18T02:47:48.828Z"
   },
   {
    "duration": 57736,
    "start_time": "2022-03-18T03:06:55.523Z"
   },
   {
    "duration": 7897,
    "start_time": "2022-03-18T03:07:56.303Z"
   },
   {
    "duration": 92426,
    "start_time": "2022-03-18T03:10:01.612Z"
   },
   {
    "duration": 1174,
    "start_time": "2022-03-18T03:14:01.561Z"
   },
   {
    "duration": 102592,
    "start_time": "2022-03-18T03:14:12.145Z"
   },
   {
    "duration": 232,
    "start_time": "2022-03-18T03:16:26.430Z"
   },
   {
    "duration": 6,
    "start_time": "2022-03-18T03:16:39.623Z"
   },
   {
    "duration": 1052,
    "start_time": "2022-03-18T03:18:25.647Z"
   },
   {
    "duration": 90504,
    "start_time": "2022-03-18T03:18:37.656Z"
   },
   {
    "duration": 6,
    "start_time": "2022-03-18T03:20:13.674Z"
   },
   {
    "duration": 203,
    "start_time": "2022-03-18T03:20:23.019Z"
   },
   {
    "duration": 191,
    "start_time": "2022-03-18T03:20:42.768Z"
   },
   {
    "duration": 221,
    "start_time": "2022-03-18T03:20:47.233Z"
   },
   {
    "duration": 6,
    "start_time": "2022-03-18T03:21:59.407Z"
   },
   {
    "duration": 27,
    "start_time": "2022-03-18T03:21:59.418Z"
   },
   {
    "duration": 21,
    "start_time": "2022-03-18T03:21:59.447Z"
   },
   {
    "duration": 25,
    "start_time": "2022-03-18T03:21:59.471Z"
   },
   {
    "duration": 5,
    "start_time": "2022-03-18T03:21:59.500Z"
   },
   {
    "duration": 9,
    "start_time": "2022-03-18T03:21:59.508Z"
   },
   {
    "duration": 5,
    "start_time": "2022-03-18T03:21:59.520Z"
   },
   {
    "duration": 54,
    "start_time": "2022-03-18T03:21:59.528Z"
   },
   {
    "duration": 12,
    "start_time": "2022-03-18T03:21:59.585Z"
   },
   {
    "duration": 7,
    "start_time": "2022-03-18T03:21:59.600Z"
   },
   {
    "duration": 72,
    "start_time": "2022-03-18T03:21:59.610Z"
   },
   {
    "duration": 6,
    "start_time": "2022-03-18T03:21:59.685Z"
   },
   {
    "duration": 113,
    "start_time": "2022-03-18T03:21:59.694Z"
   },
   {
    "duration": 1587,
    "start_time": "2022-03-18T03:21:59.813Z"
   },
   {
    "duration": 188,
    "start_time": "2022-03-18T03:22:01.403Z"
   },
   {
    "duration": 1924,
    "start_time": "2022-03-18T03:22:01.594Z"
   },
   {
    "duration": 1549,
    "start_time": "2022-03-18T03:22:03.520Z"
   },
   {
    "duration": 95321,
    "start_time": "2022-03-18T03:22:05.072Z"
   },
   {
    "duration": 5,
    "start_time": "2022-03-18T03:23:40.395Z"
   },
   {
    "duration": 213,
    "start_time": "2022-03-18T03:23:40.402Z"
   },
   {
    "duration": 47835,
    "start_time": "2022-03-18T03:46:02.986Z"
   },
   {
    "duration": 11,
    "start_time": "2022-03-18T03:49:14.962Z"
   },
   {
    "duration": 5,
    "start_time": "2022-03-18T03:49:26.026Z"
   },
   {
    "duration": 186,
    "start_time": "2022-03-18T03:49:41.045Z"
   },
   {
    "duration": 2264,
    "start_time": "2022-03-18T04:16:48.594Z"
   },
   {
    "duration": 202927,
    "start_time": "2022-03-18T04:17:41.664Z"
   },
   {
    "duration": 5,
    "start_time": "2022-03-18T04:21:48.386Z"
   },
   {
    "duration": 193,
    "start_time": "2022-03-18T04:21:51.774Z"
   },
   {
    "duration": 101466,
    "start_time": "2022-03-18T04:23:27.883Z"
   },
   {
    "duration": 6,
    "start_time": "2022-03-18T04:25:14.477Z"
   },
   {
    "duration": 185,
    "start_time": "2022-03-18T04:25:17.987Z"
   },
   {
    "duration": 141,
    "start_time": "2022-03-18T04:27:08.831Z"
   },
   {
    "duration": 7412,
    "start_time": "2022-03-18T04:30:04.279Z"
   },
   {
    "duration": 172663,
    "start_time": "2022-03-18T04:30:14.688Z"
   },
   {
    "duration": 5,
    "start_time": "2022-03-18T04:46:08.194Z"
   },
   {
    "duration": 180,
    "start_time": "2022-03-18T04:46:36.368Z"
   },
   {
    "duration": 2399,
    "start_time": "2022-03-19T00:58:58.866Z"
   },
   {
    "duration": 50,
    "start_time": "2022-03-19T00:59:01.269Z"
   },
   {
    "duration": 25,
    "start_time": "2022-03-19T00:59:01.321Z"
   },
   {
    "duration": 20,
    "start_time": "2022-03-19T00:59:01.349Z"
   },
   {
    "duration": 6,
    "start_time": "2022-03-19T00:59:01.372Z"
   },
   {
    "duration": 11,
    "start_time": "2022-03-19T00:59:01.380Z"
   },
   {
    "duration": 7,
    "start_time": "2022-03-19T00:59:01.394Z"
   },
   {
    "duration": 50,
    "start_time": "2022-03-19T00:59:01.403Z"
   },
   {
    "duration": 15,
    "start_time": "2022-03-19T00:59:01.456Z"
   },
   {
    "duration": 8,
    "start_time": "2022-03-19T00:59:01.473Z"
   },
   {
    "duration": 76,
    "start_time": "2022-03-19T00:59:01.484Z"
   },
   {
    "duration": 6,
    "start_time": "2022-03-19T00:59:01.563Z"
   },
   {
    "duration": 96,
    "start_time": "2022-03-19T00:59:01.571Z"
   },
   {
    "duration": 1144,
    "start_time": "2022-03-19T00:59:01.673Z"
   },
   {
    "duration": 223,
    "start_time": "2022-03-19T00:59:02.819Z"
   },
   {
    "duration": 1275,
    "start_time": "2022-03-19T00:59:03.044Z"
   },
   {
    "duration": 2377,
    "start_time": "2022-03-19T00:59:04.321Z"
   },
   {
    "duration": 436,
    "start_time": "2022-03-19T00:59:06.700Z"
   },
   {
    "duration": 17669,
    "start_time": "2022-03-19T00:59:07.142Z"
   },
   {
    "duration": 32,
    "start_time": "2022-03-19T00:59:24.813Z"
   },
   {
    "duration": 297,
    "start_time": "2022-03-19T00:59:24.847Z"
   },
   {
    "duration": 96,
    "start_time": "2022-03-19T00:59:25.147Z"
   },
   {
    "duration": 187,
    "start_time": "2022-03-19T00:59:25.245Z"
   },
   {
    "duration": 2321,
    "start_time": "2022-03-19T00:59:25.435Z"
   },
   {
    "duration": 210413,
    "start_time": "2022-03-19T00:59:27.759Z"
   },
   {
    "duration": 5,
    "start_time": "2022-03-19T01:02:58.174Z"
   },
   {
    "duration": 202,
    "start_time": "2022-03-19T01:02:58.181Z"
   },
   {
    "duration": 105130,
    "start_time": "2022-03-19T01:02:58.385Z"
   },
   {
    "duration": 5,
    "start_time": "2022-03-19T01:04:43.517Z"
   },
   {
    "duration": 277,
    "start_time": "2022-03-19T01:04:43.524Z"
   },
   {
    "duration": 179788,
    "start_time": "2022-03-19T01:04:43.802Z"
   },
   {
    "duration": 5,
    "start_time": "2022-03-19T01:07:43.592Z"
   },
   {
    "duration": 199,
    "start_time": "2022-03-19T01:07:43.599Z"
   },
   {
    "duration": 362712,
    "start_time": "2022-03-19T01:15:18.523Z"
   },
   {
    "duration": 17696,
    "start_time": "2022-03-19T01:22:19.022Z"
   },
   {
    "duration": 14838,
    "start_time": "2022-03-19T01:26:41.549Z"
   },
   {
    "duration": 15155,
    "start_time": "2022-03-19T01:27:19.466Z"
   },
   {
    "duration": 15191,
    "start_time": "2022-03-19T01:28:14.125Z"
   },
   {
    "duration": 2025,
    "start_time": "2022-03-19T01:28:54.573Z"
   },
   {
    "duration": 37,
    "start_time": "2022-03-19T01:28:56.600Z"
   },
   {
    "duration": 25,
    "start_time": "2022-03-19T01:28:56.640Z"
   },
   {
    "duration": 19,
    "start_time": "2022-03-19T01:28:56.668Z"
   },
   {
    "duration": 6,
    "start_time": "2022-03-19T01:28:56.689Z"
   },
   {
    "duration": 9,
    "start_time": "2022-03-19T01:28:56.697Z"
   },
   {
    "duration": 6,
    "start_time": "2022-03-19T01:28:56.742Z"
   },
   {
    "duration": 19,
    "start_time": "2022-03-19T01:28:56.750Z"
   },
   {
    "duration": 12,
    "start_time": "2022-03-19T01:28:56.771Z"
   },
   {
    "duration": 8,
    "start_time": "2022-03-19T01:28:56.788Z"
   },
   {
    "duration": 80,
    "start_time": "2022-03-19T01:28:56.798Z"
   },
   {
    "duration": 5,
    "start_time": "2022-03-19T01:28:56.881Z"
   },
   {
    "duration": 90,
    "start_time": "2022-03-19T01:28:56.888Z"
   },
   {
    "duration": 1124,
    "start_time": "2022-03-19T01:28:56.981Z"
   },
   {
    "duration": 145,
    "start_time": "2022-03-19T01:28:58.108Z"
   },
   {
    "duration": 1298,
    "start_time": "2022-03-19T01:28:58.344Z"
   },
   {
    "duration": 2425,
    "start_time": "2022-03-19T01:28:59.644Z"
   },
   {
    "duration": 443,
    "start_time": "2022-03-19T01:29:02.071Z"
   },
   {
    "duration": 17909,
    "start_time": "2022-03-19T01:29:02.517Z"
   },
   {
    "duration": 24,
    "start_time": "2022-03-19T01:29:20.428Z"
   },
   {
    "duration": 306,
    "start_time": "2022-03-19T01:29:20.454Z"
   },
   {
    "duration": 90,
    "start_time": "2022-03-19T01:29:20.762Z"
   },
   {
    "duration": 205,
    "start_time": "2022-03-19T01:29:20.855Z"
   },
   {
    "duration": 2340,
    "start_time": "2022-03-19T01:29:21.063Z"
   },
   {
    "duration": 210286,
    "start_time": "2022-03-19T01:29:23.405Z"
   },
   {
    "duration": 6,
    "start_time": "2022-03-19T01:32:53.693Z"
   },
   {
    "duration": 201,
    "start_time": "2022-03-19T01:32:53.702Z"
   },
   {
    "duration": 104518,
    "start_time": "2022-03-19T01:32:53.907Z"
   },
   {
    "duration": 5,
    "start_time": "2022-03-19T01:34:38.427Z"
   },
   {
    "duration": 196,
    "start_time": "2022-03-19T01:34:38.443Z"
   },
   {
    "duration": 179927,
    "start_time": "2022-03-19T01:34:38.643Z"
   },
   {
    "duration": 6,
    "start_time": "2022-03-19T01:37:38.572Z"
   },
   {
    "duration": 204,
    "start_time": "2022-03-19T01:37:38.580Z"
   },
   {
    "duration": 2180,
    "start_time": "2022-03-19T01:38:22.615Z"
   },
   {
    "duration": 2176,
    "start_time": "2022-03-19T01:50:15.773Z"
   },
   {
    "duration": 17,
    "start_time": "2022-03-19T01:50:53.763Z"
   },
   {
    "duration": 148,
    "start_time": "2022-03-19T01:51:12.174Z"
   },
   {
    "duration": 19,
    "start_time": "2022-03-19T01:51:37.610Z"
   },
   {
    "duration": 18055,
    "start_time": "2022-03-19T01:53:17.452Z"
   },
   {
    "duration": 15012,
    "start_time": "2022-03-19T01:53:42.766Z"
   },
   {
    "duration": 75,
    "start_time": "2022-03-19T01:58:11.921Z"
   },
   {
    "duration": 17012,
    "start_time": "2022-03-19T01:59:54.332Z"
   },
   {
    "duration": 17856,
    "start_time": "2022-03-19T02:00:49.857Z"
   },
   {
    "duration": 18275,
    "start_time": "2022-03-19T02:03:09.192Z"
   },
   {
    "duration": 7,
    "start_time": "2022-03-19T02:24:25.053Z"
   },
   {
    "duration": 34,
    "start_time": "2022-03-19T02:24:25.063Z"
   },
   {
    "duration": 20,
    "start_time": "2022-03-19T02:24:25.099Z"
   },
   {
    "duration": 20,
    "start_time": "2022-03-19T02:24:25.144Z"
   },
   {
    "duration": 4,
    "start_time": "2022-03-19T02:24:25.167Z"
   },
   {
    "duration": 8,
    "start_time": "2022-03-19T02:24:25.173Z"
   },
   {
    "duration": 61,
    "start_time": "2022-03-19T02:24:25.183Z"
   },
   {
    "duration": 14,
    "start_time": "2022-03-19T02:24:25.247Z"
   },
   {
    "duration": 15,
    "start_time": "2022-03-19T02:24:25.264Z"
   },
   {
    "duration": 7,
    "start_time": "2022-03-19T02:24:25.283Z"
   },
   {
    "duration": 92,
    "start_time": "2022-03-19T02:24:25.292Z"
   },
   {
    "duration": 6,
    "start_time": "2022-03-19T02:24:25.386Z"
   },
   {
    "duration": 104,
    "start_time": "2022-03-19T02:24:25.394Z"
   },
   {
    "duration": 1132,
    "start_time": "2022-03-19T02:24:25.501Z"
   },
   {
    "duration": 121,
    "start_time": "2022-03-19T02:24:26.635Z"
   },
   {
    "duration": 1303,
    "start_time": "2022-03-19T02:24:26.844Z"
   },
   {
    "duration": 2453,
    "start_time": "2022-03-19T02:24:28.150Z"
   },
   {
    "duration": 465,
    "start_time": "2022-03-19T02:24:30.606Z"
   },
   {
    "duration": 18224,
    "start_time": "2022-03-19T02:24:31.074Z"
   },
   {
    "duration": 17,
    "start_time": "2022-03-19T02:24:49.300Z"
   },
   {
    "duration": 341,
    "start_time": "2022-03-19T02:24:49.320Z"
   },
   {
    "duration": 128,
    "start_time": "2022-03-19T02:24:49.663Z"
   },
   {
    "duration": 293,
    "start_time": "2022-03-19T02:24:49.793Z"
   },
   {
    "duration": 3321,
    "start_time": "2022-03-19T02:24:50.089Z"
   },
   {
    "duration": 239224,
    "start_time": "2022-03-19T02:24:53.413Z"
   },
   {
    "duration": 5,
    "start_time": "2022-03-19T02:28:52.643Z"
   },
   {
    "duration": 211,
    "start_time": "2022-03-19T02:28:52.650Z"
   },
   {
    "duration": 109368,
    "start_time": "2022-03-19T02:28:52.865Z"
   },
   {
    "duration": 10,
    "start_time": "2022-03-19T02:30:42.236Z"
   },
   {
    "duration": 223,
    "start_time": "2022-03-19T02:30:42.248Z"
   },
   {
    "duration": 188347,
    "start_time": "2022-03-19T02:30:42.473Z"
   },
   {
    "duration": 6,
    "start_time": "2022-03-19T02:33:50.822Z"
   },
   {
    "duration": 206,
    "start_time": "2022-03-19T02:33:50.842Z"
   },
   {
    "duration": 2194,
    "start_time": "2022-03-19T02:33:51.050Z"
   },
   {
    "duration": 2205,
    "start_time": "2022-03-19T02:33:53.247Z"
   },
   {
    "duration": 2318,
    "start_time": "2022-03-19T02:33:55.454Z"
   },
   {
    "duration": 1741,
    "start_time": "2022-03-26T04:04:53.295Z"
   }
  ],
  "kernelspec": {
   "display_name": "Python 3",
   "language": "python",
   "name": "python3"
  },
  "language_info": {
   "codemirror_mode": {
    "name": "ipython",
    "version": 3
   },
   "file_extension": ".py",
   "mimetype": "text/x-python",
   "name": "python",
   "nbconvert_exporter": "python",
   "pygments_lexer": "ipython3",
   "version": "3.8.8"
  },
  "toc": {
   "base_numbering": 1,
   "nav_menu": {},
   "number_sections": true,
   "sideBar": true,
   "skip_h1_title": true,
   "title_cell": "Table of Contents",
   "title_sidebar": "Contents",
   "toc_cell": false,
   "toc_position": {
    "height": "calc(100% - 180px)",
    "left": "10px",
    "top": "150px",
    "width": "366.391px"
   },
   "toc_section_display": true,
   "toc_window_display": false
  }
 },
 "nbformat": 4,
 "nbformat_minor": 2
}
